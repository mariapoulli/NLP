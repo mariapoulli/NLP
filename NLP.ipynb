{
 "cells": [
  {
   "cell_type": "markdown",
   "metadata": {},
   "source": [
    "# Original code using Brown Corpus"
   ]
  },
  {
   "cell_type": "markdown",
   "metadata": {},
   "source": [
    "## Import of libraries"
   ]
  },
  {
   "cell_type": "code",
   "execution_count": 3,
   "metadata": {},
   "outputs": [],
   "source": [
    "import nltk\n",
    "from nltk.corpus import stopwords\n",
    "from nltk.corpus import brown\n",
    "from nltk.tokenize import sent_tokenize\n",
    "import numpy as np\n",
    "import re\n",
    "\n",
    "#Establishing stopwords variable for later use\n",
    "stopwords = stopwords.words('english')"
   ]
  },
  {
   "cell_type": "markdown",
   "metadata": {},
   "source": [
    "## Creating dictionaries"
   ]
  },
  {
   "cell_type": "code",
   "execution_count": 2,
   "metadata": {},
   "outputs": [],
   "source": [
    "#Function to get rid of contractions - necessary to do so when removing stopwords. \n",
    "def contractions(word):\n",
    "    word = re.sub(r\"won\\'t\", \"will not\", word)\n",
    "    word = re.sub(r\"can\\'t\", \"cannot\", word)\n",
    "    word = re.sub(r\"n\\'t\", \" not\", word)\n",
    "    word = re.sub(r\"\\'re\", \" are\", word)\n",
    "    word = re.sub(r\"\\'s\", \" is\", word)\n",
    "    word = re.sub(r\"\\'d\", \" would\", word)\n",
    "    word = re.sub(r\"\\'ll\", \" will\", word)\n",
    "    word = re.sub(r\"\\'t\", \" not\", word)\n",
    "    word = re.sub(r\"\\'ve\", \" have\", word)\n",
    "    word = re.sub(r\"\\'m\", \" am\", word)\n",
    "    return word"
   ]
  },
  {
   "cell_type": "code",
   "execution_count": 3,
   "metadata": {},
   "outputs": [],
   "source": [
    "#Creating dictionaries - articles dictionary which has {fileid : article text}\n",
    "#Catids dictionary which has {category : list of fileids in that category} - use for reference to find a fileid\n",
    "\n",
    "articles={}\n",
    "catids={}\n",
    "ids=[]\n",
    "for category in brown.categories():\n",
    "    ids=[]\n",
    "    for fileid in brown.fileids(category):\n",
    "        articles[fileid] = ' '.join(brown.words(fileids=[fileid]))\n",
    "        catids.setdefault(category, []).append(fileid)"
   ]
  },
  {
   "cell_type": "code",
   "execution_count": 4,
   "metadata": {},
   "outputs": [
    {
     "data": {
      "text/plain": [
       "\"Dan Morgan told himself he would forget Ann Turner . He was well rid of her . He certainly didn't want a wife who was fickle as Ann . If he had married her , he'd have been asking for trouble . But all of this was rationalization . Sometimes he woke up in the middle of the night thinking of Ann , and then could not get back to sleep . His plans and dreams had revolved around her so much and for so long that now he felt as if he had nothing . The easiest thing would be to sell out to Al Budd and leave the country , but there was a stubborn streak in him that wouldn't allow it . The best antidote for the bitterness and disappointment that poisoned him was hard work . He found that if he was tired enough at night , he went to sleep simply because he was too exhausted to stay awake . Each day he found himself thinking less often of Ann ; ; each day the hurt was a little duller , a little less poignant . He had plenty of work to do . Because the summer was unusually dry and hot , the spring produced a smaller stream than in ordinary years . The grass in the meadows came fast , now that the warm weather was here . He could not afford to lose a drop of the precious water , so he spent most of his waking hours along the ditches in his meadows . He had no idea how much time Budd would give him . In any case , he had no intention of being caught asleep , so he carried his revolver in its holster on his hip and he took his Winchester with him and leaned it against the fence . He stopped every few minutes and leaned on his shovel as he studied the horizon , but nothing happened , each day dragging out with monotonous calm . When , in late afternoon on the last day in June , he saw two people top the ridge to the south and walk toward the house , he quit work immediately and strode to his rifle . It could be some kind of trick Budd had thought up . No one walked in this country , least of all Ed Dow or Dutch Renfro or any of the rest of the Bar B crew . Morgan watched the two figures for a time , puzzled . When they were closer and he saw that one was a woman , he was more puzzled than ever . He cleaned his shovel , left it against the fence , picked up his Winchester , and started downstream . His visitors had crawled through the south fence and were crossing the meadow , angling toward the house . Now he saw that both the man and woman were moving slowly and irregularly , staggering , as if they found it a struggle to remain on their feet . Reaching the house ahead of them , he waited with his Winchester in his hands . They crawled through the north fence and came on toward him , and now he saw that both were young , not more than nineteen or twenty . They were dirty , their clothes were torn , and the girl was so exhausted that she fell when she was still twenty feet from the front door . She lay there , making no effort to get back on her feet . The boy came on to the porch and sat down , his gaze on Morgan as if half expecting him to shoot and not really caring . Morgan hesitated , thinking that if this was a trick , it was a good one . He didn't think it was possible for this couple to be pretending . The boy licked his dry lips . He asked , `` Could we have a drink '' ? ? Morgan jerked his head toward the front door . `` In the kitchen '' , he said . Leaning his Winchester against the front of the house , he walked to the girl . `` Get up . There's water in the house '' . She didn't move or say anything . Her eyes were glazed as if she didn't hear or even see him . She had reached a point at which she didn't even care how she looked . Her face was very thin , and burned by the sun until much of the skin was dead and peeling , the new skin under it red and angry . Her blond hair was frowzy , her dress torn in several places , and her shoes were so completely worn out that they were practically no protection . It must have hurt her even to walk , for the sole was completely off her left foot and Morgan saw that it was bruised and bleeding . He picked her up , sliding one hand under her shoulders , the other under her knees , and carried her into the house . She was amazingly light , and so relaxed in his arms that he wasn't even sure she was conscious . Any lingering suspicion that this was a trick Al Budd had thought up was dispelled . No girl would go this far to fool a man so she could kill him . Besides , she had a sweet face that attracted him . He put her down on the couch , and going into the kitchen , saw that the boy had dropped into a chair beside the table . They looked a good deal alike , Morgan thought . Both had blonde hair and blue eyes , and there was even a faint similarity of features . Morgan filled the dipper from the water bucket on the shelf , went back into the front room , lifted the girl's head , and held the edge of the dipper to her mouth . She drank greedily , and murmured , `` Thank you '' , as he lowered her head . He stood looking down at her for a moment , wondering what could have reduced her to this condition . He had seen a few nester wagons go through the country , the families almost starving to death , but he had never seen any of them on foot and as bad off as these two . The girl dropped off to sleep . Morgan returned to the kitchen , built a fire , and carried in several buckets of water from the spring which he poured into the copper boiler that he had placed on the stove . He brought his Winchester in from the front of the house , then faced the boy . `` Who are you and what happened to you '' ? ? He asked . `` I'm Billy Jones '' , the boy answered . `` That's my wife Sharon . We ran out of money and we haven't eaten for two days '' . `` What are you doing here '' ? ? `` Are we in Wyoming '' ? ? Morgan nodded . `` About five miles north of the line '' . Jones sighed as if relieved . `` We've been looking for work , but all the ranchers have turned us down '' . `` You mean you dragged your wife all over hell's half-acre looking for work '' ? ? Morgan demanded . `` The town of Buckhorn's only about six miles from here . Why didn't you go there '' ? ? `` We didn't want town work '' , Jones said . `` This is a mighty empty country '' , Morgan said . `` There's only one more ranch three miles north of here . You'd have starved to death if you'd missed both places '' . `` Then we're lucky we got here . Could you give us a job , Mr. '' `` Morgan . Dan Morgan '' . He was silent a moment , thinking he could use a man this time of year , and if the girl could cook , it would give him more time in the meadows , but he knew nothing about the couple . They might kill him in his sleep , thinking there was money in the house . He dismissed the possibility at once . The girl's thin face haunted him . It wasn't the face of a killer . He wasn't so sure about the boy . He hadn't shaved for several weeks , his sparse beard giving his face a pathetic , woebegone expression . There was more to this than Jones had told him . They were running from something . He'd be an idiot to let them stay he thought , but he couldn't send them on , either . `` I could use some help '' , Morgan said finally , `` but I can't afford to pay you anything . I guess you'd better go on in the morning '' . `` We'll work for our keep '' , the boy said eagerly . `` I've been mucking in a mine in the San Juan , but I used to work on a ranch . Sharon , she's cooked in a restaurant . We'll work hard , Mr. Morgan '' . `` I'll see '' , Morgan said . `` Right now you need a meal and a bath . Your wife's in terrible shape '' . `` I know '' , Jones said dejectedly . Morgan filled the fire box with wood again , then started supper and set the table . When the meal was ready , he told Jones to wash up , and going into the front room , woke the girl . He said , `` I've got some supper ready '' . She rubbed her eyes and stretched , then sat up , her hands going to her hair . `` I'm a mess '' , she said , and suddenly she was alarmed . `` Who are you ? ? How did we get here '' ? ? `` I'm Dan Morgan . This is the Rafter Aj . You fell down in front of the house , and I carried you in . I gave you a drink and then you went to sleep '' . `` Oh '' . She stared at him , her eyes wide as she thought about what he had said ; ; then she murmured : `` You're very kind , Mr. Morgan . Do you take in all the strays who come by '' ? ? `` I don't have many strays coming to my front door '' , he said . `` Think you can walk to the table '' ? ? `` Of course '' . She got to her feet , staggered , and almost fell . He caught her by an arm and helped her into the kitchen . She sat down at the table , shaking her head . `` I'm sorry , Mr. Morgan . I'm usually a very strong woman , but I'm awfully tired '' . `` And hungry '' , he said . `` Start in . It's not much of a meal , but it's what I eat '' . `` Not much of a meal '' ? ? The girl cried . `` Mr. Morgan , it's the best-looking food I ever saw '' . He told himself he had never seen two people eat so much . When they were finally satisfied , Jones said , `` I think he's going to give us work '' . The grateful way she looked at Morgan made him ashamed of himself . When he saw the expression in her eyes , he knew he couldn't send them on . She said , `` I guess the Lord looks out for fools , drunkards , and innocents '' . Morgan laughed . `` Which are you '' ? ? `` We're not drunkards '' , she said . `` That's all I'm sure of '' . She helped him with the dishes , then he brought more water in from the spring before it got dark . He carried the tub from the back of the house where it hung from a nail in the wall . He said : `` You'll feel a lot better after you have a bath . Your feet are in bad shape , Mrs. Jones . You'll have to go to town to see the doc '' . `` No , she'll be all right '' , Jones said quickly . `` I mean , we don't have any way to get there and we can't expect you to quit work just to take us to town '' . `` We'll see '' , Morgan said . `` Could you find me a needle and thread '' ? ? The girl asked . `` My dress needs some work on it '' . He nodded and , going into the bedroom , brought a needle , thread , and scissors . He said : `` I'm going to bed '' . He nodded at the door in front of him . `` That's my spare bedroom . The bed isn't made , but you'll find plenty of blankets there '' . `` You're awfully kind '' , the girl said . `` We'll pay you back if you'll let us . Some way '' . `` It's all right '' , he said . `` I get up early . You'd better sleep '' . Jones followed him into the front room , closing the door behind him . He said : `` If it's all right with you , Mr. Morgan , I'll sleep out here on the couch . We haven't slept together since we started . I just can't take any chances on getting her pregnant , and if we were sleeping together '' He stopped , embarrassed , and Morgan said , `` I understand that , but I don't savvy why you'd go off and leave your jobs in the first place '' . `` We got fired '' , Jones said . `` We had to do something '' . They were a pair of lost , whipped kids , Morgan thought as he went to bed .\""
      ]
     },
     "execution_count": 4,
     "metadata": {},
     "output_type": "execute_result"
    }
   ],
   "source": [
    "#Brown article used for summarization\n",
    "articles['cn01']"
   ]
  },
  {
   "cell_type": "code",
   "execution_count": 5,
   "metadata": {},
   "outputs": [],
   "source": [
    "#Creating new dictionary of {fileid : articles text cleaned without contractions or stopwords}\n",
    "\n",
    "nostop_articles={}\n",
    "for key, val in articles.items():\n",
    "    #Cleaning text with stopwords & contractions\n",
    "    articles[key] = val.replace(\"[^a-zA-Z0-9]\", \" \")\n",
    "    articles[key] = re.sub(r'''\\s([?.!\",](?:\\s|$))''', r'\\1', articles[key])\n",
    "    articles[key] = articles[key].replace(\"``\", \"\")\n",
    "    articles[key] = articles[key].replace(\"''\", \"\")\n",
    "    \n",
    "    #Cleaning text, elongating contractions, and removing stopwords\n",
    "    nostop_articles[key] = articles[key]\n",
    "    a = contractions(nostop_articles[key])\n",
    "    b = ' '.join([x for x in nltk.word_tokenize(a) if x not in stopwords])\n",
    "    nostop_articles[key] = b"
   ]
  },
  {
   "cell_type": "code",
   "execution_count": 6,
   "metadata": {},
   "outputs": [],
   "source": [
    "#This is why it is important to remove contractions before removing stop words. \n",
    "\n",
    "###See text below, original 3rd sentence: \n",
    "    #He certainly didn't want a wife who was fickle as Ann .\n",
    "    \n",
    "###Third sentence with stopwords removed, but contractions not removed:\n",
    "    #He certainly n't want wife fickle Ann .\n",
    "    \n",
    "###Third sentence with contraction elongated and then stopwords removed\n",
    "    #He certainly want wife fickle Ann."
   ]
  },
  {
   "cell_type": "markdown",
   "metadata": {},
   "source": [
    "##### Manual Summarization of the article\n",
    "\n",
    "##### Brent_Summary =\n",
    "\n",
    "\"\"\"Due to his unhappy marriage, Morgan keeps himself busy at work to avoid his wife and his thoughts \n",
    "about his unhappiness. One day, two stragglers appear on Morgan's property in bad shape; hungry, tired, and injured. \n",
    "Morgan takes them in cautiously, considering if they could be sent to kill him by his enemies. Their weakness eases \n",
    "Morgan's concerns of danger as he feeds them and gives them a place to stay. As the young couple were wandering for \n",
    "work, they ask Morgan if they can work for him. Unsure because he does not have money to pay them, their desperation\n",
    "convinces Morgan to let them stay and work for their keep.\"\"\"\n"
   ]
  },
  {
   "cell_type": "markdown",
   "metadata": {},
   "source": [
    "## Extractive Methods"
   ]
  },
  {
   "cell_type": "markdown",
   "metadata": {},
   "source": [
    "### Gensim with TextRank"
   ]
  },
  {
   "cell_type": "code",
   "execution_count": 7,
   "metadata": {},
   "outputs": [
    {
     "data": {
      "text/plain": [
       "\"' Ensure the version of gensim installed is version 3.8.3 or older.  The 4.0 and newer packages no longer include the \\ngensim.summarization module as it is no longer maintained. pip install gensim==3.8.1\""
      ]
     },
     "execution_count": 7,
     "metadata": {},
     "output_type": "execute_result"
    }
   ],
   "source": [
    "import gensim\n",
    "from gensim.summarization import summarize\n",
    "\n",
    "'''' Ensure the version of gensim installed is version 3.8.3 or older.  The 4.0 and newer packages no longer include the \n",
    "gensim.summarization module as it is no longer maintained. pip install gensim==3.8.1'''"
   ]
  },
  {
   "cell_type": "markdown",
   "metadata": {},
   "source": [
    "#### Gensim Stopwords not Removed"
   ]
  },
  {
   "cell_type": "code",
   "execution_count": 8,
   "metadata": {},
   "outputs": [
    {
     "name": "stdout",
     "output_type": "stream",
     "text": [
      "When, in late afternoon on the last day in June, he saw two people top the ridge to the south and walk toward the house, he quit work immediately and strode to his rifle.\n",
      "?  We didn't want town work , Jones said.\n",
      "She stared at him, her eyes wide as she thought about what he had said ; ; then she murmured :  You're very kind, Mr. Morgan.\n",
      "When they were finally satisfied, Jones said,  I think he's going to give us work .\n",
      "He said :  If it's all right with you, Mr. Morgan, I'll sleep out here on the couch.\n"
     ]
    }
   ],
   "source": [
    "short_summary = summarize(articles['cn01'], word_count = 100)\n",
    "print(short_summary)"
   ]
  },
  {
   "cell_type": "markdown",
   "metadata": {},
   "source": [
    "#### Gensim Stopwords not Removed"
   ]
  },
  {
   "cell_type": "code",
   "execution_count": 9,
   "metadata": {},
   "outputs": [
    {
     "name": "stdout",
     "output_type": "stream",
     "text": [
      "When , late afternoon last day June , saw two people top ridge south walk toward house , quit work immediately strode rifle .\n",
      "? We want town work , Jones said .\n",
      "When meal ready , told Jones wash , going front room , woke girl .\n",
      "She stared , eyes wide thought said ; ; murmured : You kind , Mr. Morgan .\n",
      "When finally satisfied , Jones said , I think going give us work .\n",
      "He said : If right , Mr. Morgan , I sleep couch .\n"
     ]
    }
   ],
   "source": [
    "short_summary = summarize(nostop_articles['cn01'], word_count = 100)\n",
    "print(short_summary)"
   ]
  },
  {
   "cell_type": "markdown",
   "metadata": {},
   "source": [
    "### SUMY LexRank"
   ]
  },
  {
   "cell_type": "code",
   "execution_count": 10,
   "metadata": {},
   "outputs": [],
   "source": [
    "#Import summarizers \n",
    "from sumy.parsers.plaintext import PlaintextParser\n",
    "from sumy.nlp.tokenizers import Tokenizer\n",
    "from sumy.summarizers.lex_rank import LexRankSummarizer"
   ]
  },
  {
   "cell_type": "markdown",
   "metadata": {},
   "source": [
    "#### LexRank - stopwords not removed"
   ]
  },
  {
   "cell_type": "code",
   "execution_count": 11,
   "metadata": {},
   "outputs": [],
   "source": [
    "#Use parser and tokenizer from library to prep text for use \n",
    "parsed = PlaintextParser.from_string(articles['cn01'],Tokenizer('english'))"
   ]
  },
  {
   "cell_type": "code",
   "execution_count": 12,
   "metadata": {},
   "outputs": [],
   "source": [
    "#Creating the summarizer model, then establishing the model to used the parsed document\n",
    "#created above and then specify number of sentences in output summary. Sentence count is \n",
    "#a mandatory field.\n",
    "\n",
    "lexrank_summarizer = LexRankSummarizer()\n",
    "lexrank_summary = lexrank_summarizer(parsed.document, sentences_count=5)"
   ]
  },
  {
   "cell_type": "code",
   "execution_count": 13,
   "metadata": {},
   "outputs": [
    {
     "name": "stdout",
     "output_type": "stream",
     "text": [
      "There was more to this than Jones had told him.\n",
      "I'll see , Morgan said.\n",
      "You fell down in front of the house, and I carried you in.\n",
      "I mean, we don't have any way to get there and we can't expect you to quit work just to take us to town .\n",
      "He said :  If it's all right with you, Mr. Morgan, I'll sleep out here on the couch.\n"
     ]
    }
   ],
   "source": [
    "#To cleanly see summary output, use a for loop. Sentences printed first are \n",
    "#ranked as most important, meaning they are most similar to other sentences.\n",
    "\n",
    "for sen in lexrank_summary:\n",
    "    print(sen)"
   ]
  },
  {
   "cell_type": "markdown",
   "metadata": {},
   "source": [
    "#### Lexrank with stopwords removed"
   ]
  },
  {
   "cell_type": "code",
   "execution_count": 14,
   "metadata": {},
   "outputs": [],
   "source": [
    "#Using parser with text that had stopwords removed and contractions elongated.\n",
    "\n",
    "parsed = PlaintextParser.from_string(nostop_articles['cn01'],Tokenizer('english'))"
   ]
  },
  {
   "cell_type": "code",
   "execution_count": 15,
   "metadata": {},
   "outputs": [],
   "source": [
    "lexrank_summary_stopremoved = lexrank_summarizer(parsed.document, sentences_count=5)"
   ]
  },
  {
   "cell_type": "code",
   "execution_count": 16,
   "metadata": {},
   "outputs": [
    {
     "name": "stdout",
     "output_type": "stream",
     "text": [
      "I see , Morgan said .\n",
      "You fell front house , I carried .\n",
      "I mean , way get expect quit work take us town .\n",
      "We see , Morgan said .\n",
      "He said : I going bed .\n"
     ]
    }
   ],
   "source": [
    "for sen in lexrank_summary_stopremoved:\n",
    "    print(sen)"
   ]
  },
  {
   "cell_type": "markdown",
   "metadata": {},
   "source": [
    "### SUMY LSA (Latent semantic analysis)"
   ]
  },
  {
   "cell_type": "code",
   "execution_count": 17,
   "metadata": {},
   "outputs": [],
   "source": [
    "from sumy.summarizers.lsa import LsaSummarizer"
   ]
  },
  {
   "cell_type": "markdown",
   "metadata": {},
   "source": [
    "#### LSA (Latent semantic analysis) with stopwords/contractions"
   ]
  },
  {
   "cell_type": "code",
   "execution_count": 18,
   "metadata": {},
   "outputs": [],
   "source": [
    "LSAparsed = PlaintextParser.from_string(articles['cn01'],Tokenizer('english'))"
   ]
  },
  {
   "cell_type": "code",
   "execution_count": 19,
   "metadata": {},
   "outputs": [],
   "source": [
    "LSA_summarizer = LsaSummarizer()\n",
    "LSA_summary = LSA_summarizer(LSAparsed.document,5)"
   ]
  },
  {
   "cell_type": "code",
   "execution_count": 20,
   "metadata": {},
   "outputs": [
    {
     "name": "stdout",
     "output_type": "stream",
     "text": [
      "No girl would go this far to fool a man so she could kill him.\n",
      "He had seen a few nester wagons go through the country, the families almost starving to death, but he had never seen any of them on foot and as bad off as these two.\n",
      "When they were finally satisfied, Jones said,  I think he's going to give us work .\n",
      "He said :  If it's all right with you, Mr. Morgan, I'll sleep out here on the couch.\n",
      "They were a pair of lost, whipped kids, Morgan thought as he went to bed.\n"
     ]
    }
   ],
   "source": [
    "for sen in LSA_summary:\n",
    "    print(sen)"
   ]
  },
  {
   "cell_type": "markdown",
   "metadata": {},
   "source": [
    "#### LSA (Latent semantic analysis) without stopwords/contractions"
   ]
  },
  {
   "cell_type": "code",
   "execution_count": 21,
   "metadata": {},
   "outputs": [],
   "source": [
    "LSAparsed = PlaintextParser.from_string(nostop_articles['cn01'],Tokenizer('english'))"
   ]
  },
  {
   "cell_type": "code",
   "execution_count": 22,
   "metadata": {},
   "outputs": [],
   "source": [
    "LSA_summarizer = LsaSummarizer()\n",
    "LSA_summary = LSA_summarizer(LSAparsed.document,5)"
   ]
  },
  {
   "cell_type": "code",
   "execution_count": 23,
   "metadata": {},
   "outputs": [
    {
     "name": "stdout",
     "output_type": "stream",
     "text": [
      "He stopped every minutes leaned shovel studied horizon , nothing happened , day dragging monotonous calm .\n",
      "When , late afternoon last day June , saw two people top ridge south walk toward house , quit work immediately strode rifle .\n",
      "No one walked country , least Ed Dow Dutch Renfro rest Bar B crew .\n",
      "It must hurt even walk , sole completely left foot Morgan saw bruised bleeding .\n",
      "Morgan returned kitchen , built fire , carried several buckets water spring poured copper boiler placed stove .\n"
     ]
    }
   ],
   "source": [
    "for sen in LSA_summary:\n",
    "    print(sen)"
   ]
  },
  {
   "cell_type": "markdown",
   "metadata": {},
   "source": [
    "### SUMY LUHN"
   ]
  },
  {
   "cell_type": "code",
   "execution_count": 24,
   "metadata": {},
   "outputs": [],
   "source": [
    "# Import the summarizer library\n",
    "from sumy.summarizers.luhn import LuhnSummarizer"
   ]
  },
  {
   "cell_type": "code",
   "execution_count": 25,
   "metadata": {},
   "outputs": [],
   "source": [
    "from sumy.nlp.tokenizers import Tokenizer\n",
    "from sumy.parsers.plaintext import PlaintextParser"
   ]
  },
  {
   "cell_type": "markdown",
   "metadata": {},
   "source": [
    "#### SUMY LUHN with stopwords/contractions"
   ]
  },
  {
   "cell_type": "code",
   "execution_count": 26,
   "metadata": {},
   "outputs": [],
   "source": [
    "# Using the parser functions\n",
    "luhnparser=PlaintextParser.from_string(articles['cn01'],Tokenizer('english'))"
   ]
  },
  {
   "cell_type": "code",
   "execution_count": 27,
   "metadata": {},
   "outputs": [],
   "source": [
    "# creating the summarizer, maintaining 3 sentences as the parameter \n",
    "luhn_summarizer=LuhnSummarizer()\n",
    "luhn_summary=luhn_summarizer(luhnparser.document,sentences_count=5)"
   ]
  },
  {
   "cell_type": "code",
   "execution_count": 28,
   "metadata": {},
   "outputs": [
    {
     "name": "stdout",
     "output_type": "stream",
     "text": [
      "They crawled through the north fence and came on toward him, and now he saw that both were young, not more than nineteen or twenty.\n",
      "He had seen a few nester wagons go through the country, the families almost starving to death, but he had never seen any of them on foot and as bad off as these two.\n",
      "He was silent a moment, thinking he could use a man this time of year, and if the girl could cook, it would give him more time in the meadows, but he knew nothing about the couple.\n",
      "I mean, we don't have any way to get there and we can't expect you to quit work just to take us to town .\n",
      "I just can't take any chances on getting her pregnant, and if we were sleeping together  He stopped, embarrassed, and Morgan said,  I understand that, but I don't savvy why you'd go off and leave your jobs in the first place .\n"
     ]
    }
   ],
   "source": [
    "for sentence in luhn_summary:\n",
    "    print(sentence)"
   ]
  },
  {
   "cell_type": "markdown",
   "metadata": {},
   "source": [
    "#### SUMY LUHN without stopwords/contractions"
   ]
  },
  {
   "cell_type": "code",
   "execution_count": 29,
   "metadata": {},
   "outputs": [],
   "source": [
    "# Using the parser functions with the updated article with stopwords and contractions removed\n",
    "luhnparser=PlaintextParser.from_string(nostop_articles['cn01'],Tokenizer('english'))"
   ]
  },
  {
   "cell_type": "code",
   "execution_count": 30,
   "metadata": {},
   "outputs": [],
   "source": [
    "luhn_summarizer=LuhnSummarizer()\n",
    "luhn_summary=luhn_summarizer(luhnparser.document,sentences_count=5)"
   ]
  },
  {
   "cell_type": "code",
   "execution_count": 31,
   "metadata": {},
   "outputs": [
    {
     "name": "stdout",
     "output_type": "stream",
     "text": [
      "Each day found thinking less often Ann ; ; day hurt little duller , little less poignant .\n",
      "He silent moment , thinking could use man time year , girl could cook , would give time meadows , knew nothing couple .\n",
      "I could use help , Morgan said finally , I afford pay anything .\n",
      "When meal ready , told Jones wash , going front room , woke girl .\n",
      "When finally satisfied , Jones said , I think going give us work .\n"
     ]
    }
   ],
   "source": [
    "for sentence in luhn_summary:\n",
    "    print(sentence)"
   ]
  },
  {
   "cell_type": "markdown",
   "metadata": {},
   "source": [
    "### SUMY KL-SUM"
   ]
  },
  {
   "cell_type": "code",
   "execution_count": 32,
   "metadata": {},
   "outputs": [],
   "source": [
    "# Import the summarizer library\n",
    "from sumy.summarizers.kl import KLSummarizer"
   ]
  },
  {
   "cell_type": "markdown",
   "metadata": {},
   "source": [
    "#### SUMY KL-Sum with stopwords/contractions"
   ]
  },
  {
   "cell_type": "code",
   "execution_count": 33,
   "metadata": {},
   "outputs": [],
   "source": [
    "# Using the parser functions already imported for the lSA Algorthm\n",
    "klparser=PlaintextParser.from_string(articles['cn01'],Tokenizer('english'))"
   ]
  },
  {
   "cell_type": "code",
   "execution_count": 34,
   "metadata": {},
   "outputs": [],
   "source": [
    "kl_summarizer=KLSummarizer()\n",
    "kl_summary=kl_summarizer(klparser.document,sentences_count=5)"
   ]
  },
  {
   "cell_type": "code",
   "execution_count": 35,
   "metadata": {},
   "outputs": [
    {
     "name": "stdout",
     "output_type": "stream",
     "text": [
      "In the kitchen , he said.\n",
      "He brought his Winchester in from the front of the house, then faced the boy.\n",
      "We didn't want town work , Jones said.\n",
      "When he saw the expression in her eyes, he knew he couldn't send them on.\n",
      "He nodded at the door in front of him.\n"
     ]
    }
   ],
   "source": [
    "for sentence in kl_summary:\n",
    "    print(sentence)"
   ]
  },
  {
   "cell_type": "markdown",
   "metadata": {},
   "source": [
    "#### SUMY KL-Sum without stopwords/contractions"
   ]
  },
  {
   "cell_type": "code",
   "execution_count": 36,
   "metadata": {},
   "outputs": [],
   "source": [
    "# Using the parser functions with the updated article with stopwords and contractions removed\n",
    "klparser=PlaintextParser.from_string(nostop_articles['cn01'],Tokenizer('english'))"
   ]
  },
  {
   "cell_type": "code",
   "execution_count": 37,
   "metadata": {},
   "outputs": [],
   "source": [
    "kl_summarizer=KLSummarizer()\n",
    "kl_summary=kl_summarizer(klparser.document,sentences_count=5)"
   ]
  },
  {
   "cell_type": "code",
   "execution_count": 38,
   "metadata": {},
   "outputs": [
    {
     "name": "stdout",
     "output_type": "stream",
     "text": [
      "When , late afternoon last day June , saw two people top ridge south walk toward house , quit work immediately strode rifle .\n",
      "They dirty , clothes torn , girl exhausted fell still twenty feet front door .\n",
      "When meal ready , told Jones wash , going front room , woke girl .\n",
      "When finally satisfied , Jones said , I think going give us work .\n",
      "He said : If right , Mr. Morgan , I sleep couch .\n"
     ]
    }
   ],
   "source": [
    "for sentence in kl_summary:\n",
    "    print(sentence)"
   ]
  },
  {
   "cell_type": "markdown",
   "metadata": {},
   "source": [
    "## Abstractive Methods"
   ]
  },
  {
   "cell_type": "code",
   "execution_count": 39,
   "metadata": {},
   "outputs": [],
   "source": [
    "# Install required libraries\n",
    "# !pip install transformers\n",
    "# !pip install torch\n",
    "# !pip install TensorFlow \n",
    "# !pip install sentencepiece"
   ]
  },
  {
   "cell_type": "code",
   "execution_count": 2,
   "metadata": {},
   "outputs": [],
   "source": [
    "# Import required libraries\n",
    "from nltk.corpus import stopwords, brown\n",
    "from nltk.tokenize import sent_tokenize\n",
    "from transformers import T5Tokenizer, T5Config, T5ForConditionalGeneration\n",
    "from transformers import BartForConditionalGeneration, BartTokenizer, BartConfig\n",
    "from transformers import GPT2Tokenizer,GPT2LMHeadModel\n",
    "from summarizer import Summarizer,TransformerSummarizer\n",
    "from transformers import XLMWithLMHeadModel, XLMTokenizer\n",
    "import re"
   ]
  },
  {
   "cell_type": "code",
   "execution_count": 5,
   "metadata": {},
   "outputs": [],
   "source": [
    "# Create an empty dictionary to store the articles\n",
    "articles={}\n",
    "\n",
    "# Populate the dictionary with the articles in the brown corpus\n",
    "for category in brown.categories():\n",
    "    for fileid in brown.fileids(category):\n",
    "        articles[fileid] = ' '.join(brown.words(fileids=[fileid]))\n",
    "\n",
    "# Loop takes the dictionary created above, splits the text into sentences and then cleans the text\n",
    "for key, val in articles.items():\n",
    "    articles[key] = val.split(\" . \")\n",
    "    articles[key] = val.replace(\"[^a-zA-Z]\", \" \")"
   ]
  },
  {
   "cell_type": "code",
   "execution_count": 6,
   "metadata": {},
   "outputs": [],
   "source": [
    "# Put fileids and article text in lists for ease of access\n",
    "fileids=[]\n",
    "text=[]\n",
    "for x,y in articles.items():\n",
    "    fileids.append(x)\n",
    "    text.append(y)\n",
    "    \n",
    "sample_text = text[0].strip().replace(\"\\n\",\"\")"
   ]
  },
  {
   "cell_type": "markdown",
   "metadata": {},
   "source": [
    "### T5 Transformers"
   ]
  },
  {
   "cell_type": "code",
   "execution_count": 64,
   "metadata": {},
   "outputs": [
    {
     "name": "stdout",
     "output_type": "stream",
     "text": [
      "T5 summary:\n",
      "\n",
      "Dan Morgan told himself he would forget Ann Turner. He was well rid of her - He certainly didn't want a wife who was fickle as Ann, but all of this was rationalization! sometimes woke up in the middle of the night thinking of Ann, and then could not get back to sleep. His plans and dreams had revolved around her so much and for so long that now... the easiest thing would be to sell out to Al Budd and leave the country\n"
     ]
    }
   ],
   "source": [
    "# Summarization with T5 Transformers\n",
    "\n",
    "# T5 transformers performs different tasks based on the prefix at the beggining of text.\n",
    "# Therefore, we need to add the tstring \"summarize:\" at the start of the input text.\n",
    "text = \"summarize:\" + sample_text\n",
    "\n",
    "# Instantiate the pretrained \"t5-small\" model and tokenizer\n",
    "my_model = T5ForConditionalGeneration.from_pretrained('t5-small')\n",
    "tokenizer = T5Tokenizer.from_pretrained('t5-small')\n",
    "\n",
    "# T5 is a encoder-decorder mode, meaning that the input sentence should be in the form of a sequence of ids.\n",
    "# Hence, we convert the text in the requested format through the process called encoding.\n",
    "input_ids=tokenizer.encode(\n",
    "    text,                        # sequence to be encoded\n",
    "    return_tensors='pt',         # return PyTorch tensors\n",
    "    max_length=512,              # maximum length to use by one of the truncation/padding parameter\n",
    "    truncation=True              # truncate to a maximum length specified with the argument max_length\n",
    ")\n",
    "\n",
    "# Pass the encoded text to the function which returns a sequence of ids corresponding to the summary\n",
    "summary_ids = my_model.generate(\n",
    "    input_ids,                   # previously encoded text\n",
    "    num_beams=4,                 # number of beams for beam search\n",
    "    no_repeat_ngram_size=2,      # all ngrams of the specified size can occur only once\n",
    "    min_length=100,               # the minimum length of the sequence to be generated\n",
    "    max_length=200,              # the maximum length of the sequence to be generated\n",
    "    early_stopping=True          # stop the beam search when at least num_beams sentences are finished per batch\n",
    ")\n",
    "\n",
    "# Use the function to generate the summary text form the generated ids\n",
    "t5_summary = tokenizer.decode(\n",
    "    summary_ids[0],              # list of tokenized input ids\n",
    "    skip_special_tokens=True     # remove special tokens in the decoding\n",
    ")\n",
    "\n",
    "# Print the summary\n",
    "print(\"T5 summary:\", t5_summary, sep=\"\\n\\n\")"
   ]
  },
  {
   "cell_type": "markdown",
   "metadata": {},
   "source": [
    "### BART Transformers"
   ]
  },
  {
   "cell_type": "code",
   "execution_count": 65,
   "metadata": {},
   "outputs": [
    {
     "name": "stdout",
     "output_type": "stream",
     "text": [
      "BART summary:\n",
      "\n",
      "Dan Morgan told himself he would forget Ann Turner. He didn't want a wife who was fickle as Ann. If he had married her, he'd have been asking for trouble. The best antidote for the bitterness and disappointment that poisoned him was hard work. When he saw two people top the ridge to the south and walk toward the house, he quit work immediately and strode to his rifle. It could be some kind of trick Budd had thought up. No one walked in this country, least of all Ed Dow or Dutch Renfro.\n"
     ]
    }
   ],
   "source": [
    "# Summarization with BART Transformers\n",
    "\n",
    "# Instantiate the pretrained \"bart-large-cnn\" model, fine tuned especially for summarization task\n",
    "tokenizer=BartTokenizer.from_pretrained('facebook/bart-large-cnn')\n",
    "model=BartForConditionalGeneration.from_pretrained('facebook/bart-large-cnn')\n",
    "\n",
    "# Pass the input text in the form of a sequence of ids using the batch_encode_plus() function with the tokenizer\n",
    "inputs = tokenizer.batch_encode_plus( \n",
    "    [sample_text],               # sequence to be encoded\n",
    "    return_tensors='pt',         # return PyTorch tensors\n",
    "    max_length=512,              # maximum length to use by one of the truncation/padding parameter\n",
    "    truncation=True              # truncate to a maximum length specified with the argument max_length\n",
    ")\n",
    "\n",
    "# Pass the encoded sequence to the function to generate the ids of the summarized output\n",
    "summary_ids = model.generate(\n",
    "    inputs['input_ids'],         # the sequence used as a prompt for the generation\n",
    "    num_beams=4,                 # number of beams for beam search\n",
    "    no_repeat_ngram_size=2,      # all ngrams of the specified size can occur only once\n",
    "    min_length=100,               # the minimum length of the sequence to be generated\n",
    "    max_length=200,              # the maximum length of the sequence to be generated\n",
    "    early_stopping=True          # stop the beam search when at least num_beams sentences are finished per batch\n",
    ")\n",
    "\n",
    "# Convert the encoded sequence of ids to text\n",
    "bart_summary = tokenizer.decode(\n",
    "    summary_ids[0],              # list of tokenized input ids\n",
    "    skip_special_tokens=True     # remove special tokens in the decoding\n",
    ")\n",
    "\n",
    "# Print the summary\n",
    "print(\"BART summary:\", bart_summary, sep=\"\\n\\n\")"
   ]
  },
  {
   "cell_type": "markdown",
   "metadata": {},
   "source": [
    "### GPT-2 Transformers"
   ]
  },
  {
   "cell_type": "code",
   "execution_count": 7,
   "metadata": {},
   "outputs": [
    {
     "name": "stdout",
     "output_type": "stream",
     "text": [
      "GPT-2 summary:\n",
      "\n",
      "The best antidote for the bitterness and disappointment that poisoned him was hard work . Both had blonde hair and blue eyes , and there was even a faint similarity of features . He brought his Winchester in from the front of the house , then faced the boy . They might kill him in his sleep , thinking there was money in the house . She rubbed her eyes and stretched , then sat up , her hands going to her hair . `` I don't have many strays coming to my front door '' , he said . When he saw the expression in her eyes , he knew he couldn't send them on . He said : `` If it's all right with you , Mr. Morgan , I'll sleep out here on the couch .\n"
     ]
    }
   ],
   "source": [
    "GPT2_model = TransformerSummarizer(\n",
    "    transformer_type=\"GPT2\",\n",
    "    transformer_model_key=\"gpt2-large\")\n",
    "\n",
    "text = \"\".join(sample_text)\n",
    "\n",
    "summarize = ''.join(GPT2_model(text, \n",
    "    min_length=60, \n",
    "    max_length=100))\n",
    "\n",
    "print(\"GPT-2 summary:\", summarize, sep = \"\\n\\n\")"
   ]
  },
  {
   "cell_type": "markdown",
   "metadata": {},
   "source": [
    "### XLN Transformers"
   ]
  },
  {
   "cell_type": "code",
   "execution_count": 8,
   "metadata": {},
   "outputs": [
    {
     "name": "stderr",
     "output_type": "stream",
     "text": [
      "Some weights of the model checkpoint at xlnet-base-cased were not used when initializing XLNetModel: ['lm_loss.weight', 'lm_loss.bias']\n",
      "- This IS expected if you are initializing XLNetModel from the checkpoint of a model trained on another task or with another architecture (e.g. initializing a BertForSequenceClassification model from a BertForPreTraining model).\n",
      "- This IS NOT expected if you are initializing XLNetModel from the checkpoint of a model that you expect to be exactly identical (initializing a BertForSequenceClassification model from a BertForSequenceClassification model).\n"
     ]
    },
    {
     "name": "stdout",
     "output_type": "stream",
     "text": [
      "XLNet summary:\n",
      "\n",
      "The best antidote for the bitterness and disappointment that poisoned him was hard work . The grass in the meadows came fast , now that the warm weather was here . When they were closer and he saw that one was a woman , he was more puzzled than ever . Reaching the house ahead of them , he waited with his Winchester in his hands . She rubbed her eyes and stretched , then sat up , her hands going to her hair . When they were finally satisfied , Jones said , `` I think he's going to give us work '' . He said : `` You'll feel a lot better after you have a bath . They were a pair of lost , whipped kids , Morgan thought as he went to bed .\n"
     ]
    }
   ],
   "source": [
    "xln_model = TransformerSummarizer(\n",
    "    transformer_type=\"XLNet\",\n",
    "    transformer_model_key=\"xlnet-base-cased\")\n",
    "\n",
    "full = ''.join(xln_model(sample_text, \n",
    "                      min_length=60, \n",
    "                      max_length = 100))\n",
    "\n",
    "print(\"XLNet summary:\", full, sep = \"\\n\\n\")"
   ]
  },
  {
   "cell_type": "markdown",
   "metadata": {},
   "source": [
    "# Updated code with new text"
   ]
  },
  {
   "cell_type": "code",
   "execution_count": 11,
   "metadata": {},
   "outputs": [],
   "source": [
    "# NY Times article was downloaded as a pdf and later a txt file as the article sits behind a paywall\n",
    "article2 = open(\"Opinion _ How Is the U.S. Economy Doing_ - The New York Times.txt\", encoding=\"utf8\").read()"
   ]
  },
  {
   "cell_type": "code",
   "execution_count": 12,
   "metadata": {},
   "outputs": [
    {
     "data": {
      "text/plain": [
       "'Last week’s employment report was puzzling. The Bureau of Labor Statistics carries out\\ntwo separate surveys, one of employers and another of households; we normally expect the\\ntwo to paint a similar picture. This time, not so much.\\nThe employer survey was, to use the technical term, meh — 210,000 jobs added, a\\nrespectable number but not what many had hoped for. The household survey, however, was\\nterrific; in particular, the employment rate among prime-age adults, a key measure of labor\\nmarket health, is beginning to approach prepandemic levels.\\nWell, we shouldn’t make too much of the apparent inconsistencies in the report. Noisy data\\nhappens, and overall the economic picture looks pretty good — indeed, in many ways this\\nlooks like the best economic recovery in many decades.\\nYet consumers appear to be feeling very downbeat — or at least that’s what they tell\\nsurveys like the famous Michigan Survey of Consumers. And this perception of a bad\\neconomy is clearly weighing on President Biden’s approval rating. Which raises the\\nquestion: Are consumers right? Is this a bad economy despite data showing it as very\\ngood? And if it really isn’t a bad economy, why does the public say it is?\\nJust to be clear, I genuinely want to know the answer to these questions. I don’t think it’s a\\ncrude case of “people are being lied to by the corporate media,” although if you ask me, it’s\\nsilly when people in the media get all huffy over any suggestion that how they report on the\\neconomy has an influence on public perceptions. (If it doesn’t, why do they bother?)\\nSo what is going on? Let’s start with the obvious culprit, inflation, which is indeed running\\nhotter than it has for decades.\\n\\nRising prices have certainly eroded many workers’ wage gains, although real personal\\nincome per capita is still above its prepandemic level even though the government is no\\nlonger handing out lots of money. And my sense is that inflation has a corrosive effect on\\nconfidence even when incomes are keeping up, because it creates the perception that things\\nare out of control.\\nThat said, surveys about inflation also illustrate the point that when you talk to consumers,\\nthe questions they answer may not be the ones you thought you were asking. It’s a\\nlongstanding observation — almost a running joke — that the “expected inflation” number\\nfrom the Michigan Surveys is, in practice, basically the price of gasoline.\\nSo what question are people really answering when asked about the state of the economy?\\nOne clue is that there’s an incredible amount of partisan skew in the responses. Republicans\\nsay, bizarrely, that current economic conditions are much worse than they were in March\\n2009, when the economy was losing 800,000 jobs a month.\\nAnother clue is that you get very different answers when you ask people “How are you\\ndoing?” rather than “How is the economy doing?” The Langer Consumer Confidence Index\\nasks people separately about the national economy — where their assessment is dismal —\\nand about their personal financial situation, where their rating is high by historical\\nstandards. The Michigan Surveys don’t ask quite the same questions, but they do ask people\\nhow their current financial situation compares with five years earlier; 63 percent say\\nthey’re better off, the same number as in September 1984, just before Ronald Reagan won an\\nelectoral landslide with claims that it was “morning in America.”\\nAside from looking at what people say, surely it makes sense to look at what they do. If\\nconsumers are really as depressed as the sentiment numbers say, why are retail sales\\nrunning so high?\\nAnd if we turn our attention from consumers to businesses, what we see is a huge surge in\\ncapital expenditures. That is, businesses are investing as if they see a booming economy\\nand expect the boom to continue.\\nIn short, the public’s highly negative assessment of the economy is at odds with every other\\nindicator I can think of. Again, what’s going on?\\nAs I said, part of the answer is probably that inflation unnerves people even when their\\nincomes are keeping up. This may be especially true when there are big increases in the\\ncost of filling one’s gas tank, a cost that has psychological salience far larger than its 4\\npercent weight in the Consumer Price Index.\\n\\nPartisanship is also definitely a factor. Two-thirds of Republicans believe that the 2020\\nelection was stolen; how much of a stretch is it for them also to believe that the Biden\\neconomy is terrible, whatever their personal experience?\\nFinally, as I also said, it’s implausible to assert that the tone of media coverage is irrelevant.\\nIt’s not even necessarily a partisan thing. My world is full of economic commentators who\\nhave spent years eager to moralize about the evils of inflation and who were bitterly\\ndisappointed when their hoped-for disaster failed to materialize a decade ago. Now they\\nhave their chance, and they’re surely having some effect on public perceptions.\\nSo it’s important to keep perspective. This is actually a very good economy, albeit with some\\nproblems. Don’t let the doomsayers tell you otherwise.'"
      ]
     },
     "execution_count": 12,
     "metadata": {},
     "output_type": "execute_result"
    }
   ],
   "source": [
    "## Full text\n",
    "article2 "
   ]
  },
  {
   "cell_type": "markdown",
   "metadata": {},
   "source": [
    "### Summary of NY Times article created using Quillbot (https://quillbot.com/summarize) \n",
    "\n",
    "\"\" Last week's employment report from the Bureau of Labor Statistics was puzzling. Employer survey added 210,000 jobs, a respectable number but not what many had hoped for. But household survey added a lot more jobs, and key measure of labor market health is beginning to approach prepandemic levels. Frum asks: Is this a bad economy despite data showing it as verygood? And if it really isn't a bad recession, why does the public say it is?\n",
    "\n",
    "Inflation has a corrosive effect on confidence even when incomes are keeping up, as it creates the perception that things are out of control. The Michigan Surveys don't ask quite the same questions, but they do ask people how their current financial situation compares with five years earlier. 63 percent say they're better off, the same number as in September 1984, just before Ronald Reagan won an electoral landslide.\"\""
   ]
  },
  {
   "cell_type": "markdown",
   "metadata": {},
   "source": [
    "## Extractive Methods"
   ]
  },
  {
   "cell_type": "markdown",
   "metadata": {},
   "source": [
    "### Gensim with TextRank"
   ]
  },
  {
   "cell_type": "code",
   "execution_count": 46,
   "metadata": {},
   "outputs": [
    {
     "name": "stdout",
     "output_type": "stream",
     "text": [
      "That said, surveys about inflation also illustrate the point that when you talk to consumers,\n",
      "So what question are people really answering when asked about the state of the economy?\n",
      "Another clue is that you get very different answers when you ask people “How are you\n",
      "doing?” rather than “How is the economy doing?” The Langer Consumer Confidence Index\n",
      "asks people separately about the national economy — where their assessment is dismal —\n",
      "The Michigan Surveys don’t ask quite the same questions, but they do ask people\n",
      "As I said, part of the answer is probably that inflation unnerves people even when their\n"
     ]
    }
   ],
   "source": [
    "short_summary = summarize(article2, word_count = 100)\n",
    "print(short_summary)"
   ]
  },
  {
   "cell_type": "markdown",
   "metadata": {},
   "source": [
    "### SUMY LexRank"
   ]
  },
  {
   "cell_type": "code",
   "execution_count": 47,
   "metadata": {},
   "outputs": [],
   "source": [
    "parsed = PlaintextParser.from_string(article2,Tokenizer('english'))"
   ]
  },
  {
   "cell_type": "code",
   "execution_count": 48,
   "metadata": {},
   "outputs": [],
   "source": [
    "lexrank_summarizer = LexRankSummarizer()\n",
    "lexrank_summary = lexrank_summarizer(parsed.document, sentences_count=5)"
   ]
  },
  {
   "cell_type": "code",
   "execution_count": 49,
   "metadata": {},
   "outputs": [
    {
     "name": "stdout",
     "output_type": "stream",
     "text": [
      "This time, not so much.\n",
      "I don’t think it’s a crude case of “people are being lied to by the corporate media,” although if you ask me, it’s silly when people in the media get all huffy over any suggestion that how they report on the economy has an influence on public perceptions.\n",
      "That said, surveys about inflation also illustrate the point that when you talk to consumers, the questions they answer may not be the ones you thought you were asking.\n",
      "The Michigan Surveys don’t ask quite the same questions, but they do ask people how their current financial situation compares with five years earlier; 63 percent say they’re better off, the same number as in September 1984, just before Ronald Reagan won an electoral landslide with claims that it was “morning in America.” Aside from looking at what people say, surely it makes sense to look at what they do.\n",
      "As I said, part of the answer is probably that inflation unnerves people even when their incomes are keeping up.\n"
     ]
    }
   ],
   "source": [
    "for sen in lexrank_summary:\n",
    "    print(sen)"
   ]
  },
  {
   "cell_type": "markdown",
   "metadata": {},
   "source": [
    "### SUMY LSA (Latent semantic analysis)"
   ]
  },
  {
   "cell_type": "code",
   "execution_count": 50,
   "metadata": {},
   "outputs": [],
   "source": [
    "LSAparsed = PlaintextParser.from_string(article2,Tokenizer('english'))"
   ]
  },
  {
   "cell_type": "code",
   "execution_count": 51,
   "metadata": {},
   "outputs": [],
   "source": [
    "LSA_summarizer = LsaSummarizer()\n",
    "LSA_summary = LSA_summarizer(LSAparsed.document,5)"
   ]
  },
  {
   "cell_type": "code",
   "execution_count": 52,
   "metadata": {},
   "outputs": [
    {
     "name": "stdout",
     "output_type": "stream",
     "text": [
      "Let’s start with the obvious culprit, inflation, which is indeed running hotter than it has for decades.\n",
      "Republicans say, bizarrely, that current economic conditions are much worse than they were in March 2009, when the economy was losing 800,000 jobs a month.\n",
      "That is, businesses are investing as if they see a booming economy and expect the boom to continue.\n",
      "As I said, part of the answer is probably that inflation unnerves people even when their incomes are keeping up.\n",
      "Finally, as I also said, it’s implausible to assert that the tone of media coverage is irrelevant.\n"
     ]
    }
   ],
   "source": [
    "for sen in LSA_summary:\n",
    "    print(sen)"
   ]
  },
  {
   "cell_type": "markdown",
   "metadata": {},
   "source": [
    "### SUMY Luhn"
   ]
  },
  {
   "cell_type": "code",
   "execution_count": 53,
   "metadata": {},
   "outputs": [],
   "source": [
    "luhnparser=PlaintextParser.from_string(article2,Tokenizer('english'))"
   ]
  },
  {
   "cell_type": "code",
   "execution_count": 54,
   "metadata": {},
   "outputs": [],
   "source": [
    "luhn_summarizer=LuhnSummarizer()\n",
    "luhn_summary=luhn_summarizer(luhnparser.document,sentences_count=5)"
   ]
  },
  {
   "cell_type": "code",
   "execution_count": 55,
   "metadata": {},
   "outputs": [
    {
     "name": "stdout",
     "output_type": "stream",
     "text": [
      "I don’t think it’s a crude case of “people are being lied to by the corporate media,” although if you ask me, it’s silly when people in the media get all huffy over any suggestion that how they report on the economy has an influence on public perceptions.\n",
      "And my sense is that inflation has a corrosive effect on confidence even when incomes are keeping up, because it creates the perception that things are out of control.\n",
      "That said, surveys about inflation also illustrate the point that when you talk to consumers, the questions they answer may not be the ones you thought you were asking.\n",
      "Another clue is that you get very different answers when you ask people “How are you doing?” rather than “How is the economy doing?” The Langer Consumer Confidence Index asks people separately about the national economy — where their assessment is dismal — and about their personal financial situation, where their rating is high by historical standards.\n",
      "The Michigan Surveys don’t ask quite the same questions, but they do ask people how their current financial situation compares with five years earlier; 63 percent say they’re better off, the same number as in September 1984, just before Ronald Reagan won an electoral landslide with claims that it was “morning in America.” Aside from looking at what people say, surely it makes sense to look at what they do.\n"
     ]
    }
   ],
   "source": [
    "for sentence in luhn_summary:\n",
    "    print(sentence)"
   ]
  },
  {
   "cell_type": "markdown",
   "metadata": {},
   "source": [
    "### SUMY KL-Sum"
   ]
  },
  {
   "cell_type": "code",
   "execution_count": 56,
   "metadata": {},
   "outputs": [],
   "source": [
    "klparser=PlaintextParser.from_string(article2,Tokenizer('english'))"
   ]
  },
  {
   "cell_type": "code",
   "execution_count": 57,
   "metadata": {},
   "outputs": [],
   "source": [
    "kl_summarizer=KLSummarizer()\n",
    "kl_summary=kl_summarizer(klparser.document,sentences_count=5)"
   ]
  },
  {
   "cell_type": "code",
   "execution_count": 58,
   "metadata": {},
   "outputs": [
    {
     "name": "stdout",
     "output_type": "stream",
     "text": [
      "Just to be clear, I genuinely want to know the answer to these questions.\n",
      "(If it doesn’t, why do they bother?)\n",
      "That said, surveys about inflation also illustrate the point that when you talk to consumers, the questions they answer may not be the ones you thought you were asking.\n",
      "The Michigan Surveys don’t ask quite the same questions, but they do ask people how their current financial situation compares with five years earlier; 63 percent say they’re better off, the same number as in September 1984, just before Ronald Reagan won an electoral landslide with claims that it was “morning in America.” Aside from looking at what people say, surely it makes sense to look at what they do.\n",
      "Don’t let the doomsayers tell you otherwise.\n"
     ]
    }
   ],
   "source": [
    "for sentence in kl_summary:\n",
    "    print(sentence)"
   ]
  },
  {
   "cell_type": "markdown",
   "metadata": {},
   "source": [
    "## Abstractive Methods"
   ]
  },
  {
   "cell_type": "markdown",
   "metadata": {},
   "source": [
    "### T5 Transformers"
   ]
  },
  {
   "cell_type": "code",
   "execution_count": 61,
   "metadata": {},
   "outputs": [
    {
     "name": "stdout",
     "output_type": "stream",
     "text": [
      "T5 summary:\n",
      "\n",
      "the employment rate among prime-age adults is beginning to approach prepandemic levels. consumer perception of a bad economy is clearly weighing on president Biden’s approval rating, which raises the question: Are consumers right? rising prices have certainly eroded many workers’ wage gains, although real personal income per capita is still above its prepundetic level even though the government is no longer handing out lots of money. if you talk to consumers, the questions they answer may not be the ones you thought you were going to be\n"
     ]
    }
   ],
   "source": [
    "# Summarization with T5 Transformers\n",
    "\n",
    "# T5 transformers performs different tasks based on the prefix at the beggining of text.\n",
    "# Therefore, we need to add the tstring \"summarize:\" at the start of the input text.\n",
    "text = \"summarize:\" + article2\n",
    "\n",
    "# Instantiate the pretrained \"t5-small\" model and tokenizer\n",
    "my_model = T5ForConditionalGeneration.from_pretrained('t5-small')\n",
    "tokenizer = T5Tokenizer.from_pretrained('t5-small')\n",
    "\n",
    "# T5 is a encoder-decorder mode, meaning that the input sentence should be in the form of a sequence of ids.\n",
    "# Hence, we convert the text in the requested format through the process called encoding.\n",
    "input_ids=tokenizer.encode(\n",
    "    text,                        # sequence to be encoded\n",
    "    return_tensors='pt',         # return PyTorch tensors\n",
    "    max_length=512,              # maximum length to use by one of the truncation/padding parameter\n",
    "    truncation=True              # truncate to a maximum length specified with the argument max_length\n",
    ")\n",
    "\n",
    "# Pass the encoded text to the function which returns a sequence of ids corresponding to the summary\n",
    "summary_ids = my_model.generate(\n",
    "    input_ids,                   # previously encoded text\n",
    "    num_beams=4,                 # number of beams for beam search\n",
    "    no_repeat_ngram_size=2,      # all ngrams of the specified size can occur only once\n",
    "    min_length=100,               # the minimum length of the sequence to be generated\n",
    "    max_length=200,              # the maximum length of the sequence to be generated\n",
    "    early_stopping=True          # stop the beam search when at least num_beams sentences are finished per batch\n",
    ")\n",
    "\n",
    "# Use the function to generate the summary text form the generated ids\n",
    "t5_summary = tokenizer.decode(\n",
    "    summary_ids[0],              # list of tokenized input ids\n",
    "    skip_special_tokens=True     # remove special tokens in the decoding\n",
    ")\n",
    "\n",
    "# Print the summary\n",
    "print(\"T5 summary:\", t5_summary, sep=\"\\n\\n\")"
   ]
  },
  {
   "cell_type": "markdown",
   "metadata": {},
   "source": [
    "### BART Transformers"
   ]
  },
  {
   "cell_type": "code",
   "execution_count": 62,
   "metadata": {},
   "outputs": [
    {
     "name": "stdout",
     "output_type": "stream",
     "text": [
      "BART summary:\n",
      "\n",
      "Last week’s employment report was puzzling. The employer survey was, to use the technical term, meh — 210,000 jobs added. But the household survey, however, wasterrific; in particular, the employment rate among prime-age adults is beginning to approach prepandemic levels. Are consumers right? Is this a bad economy despite data showing it as very good? And why does the public say it is? I genuinely want to know the answer to these questions.\n"
     ]
    }
   ],
   "source": [
    "# Summarization with BART Transformers\n",
    "\n",
    "# Instantiate the pretrained \"bart-large-cnn\" model, fine tuned especially for summarization task\n",
    "tokenizer=BartTokenizer.from_pretrained('facebook/bart-large-cnn')\n",
    "model=BartForConditionalGeneration.from_pretrained('facebook/bart-large-cnn')\n",
    "\n",
    "# Pass the input text in the form of a sequence of ids using the batch_encode_plus() function with the tokenizer\n",
    "inputs = tokenizer.batch_encode_plus( \n",
    "    [article2],               # sequence to be encoded\n",
    "    return_tensors='pt',         # return PyTorch tensors\n",
    "    max_length=512,              # maximum length to use by one of the truncation/padding parameter\n",
    "    truncation=True              # truncate to a maximum length specified with the argument max_length\n",
    ")\n",
    "\n",
    "# Pass the encoded sequence to the function to generate the ids of the summarized output\n",
    "summary_ids = model.generate(\n",
    "    inputs['input_ids'],         # the sequence used as a prompt for the generation\n",
    "    num_beams=4,                 # number of beams for beam search\n",
    "    no_repeat_ngram_size=2,      # all ngrams of the specified size can occur only once\n",
    "    min_length=100,               # the minimum length of the sequence to be generated\n",
    "    max_length=200,              # the maximum length of the sequence to be generated\n",
    "    early_stopping=True          # stop the beam search when at least num_beams sentences are finished per batch\n",
    ")\n",
    "\n",
    "# Convert the encoded sequence of ids to text\n",
    "bart_summary = tokenizer.decode(\n",
    "    summary_ids[0],              # list of tokenized input ids\n",
    "    skip_special_tokens=True     # remove special tokens in the decoding\n",
    ")\n",
    "\n",
    "# Print the summary\n",
    "print(\"BART summary:\", bart_summary, sep=\"\\n\\n\")"
   ]
  },
  {
   "cell_type": "markdown",
   "metadata": {},
   "source": [
    "### GPT-2"
   ]
  },
  {
   "cell_type": "code",
   "execution_count": 15,
   "metadata": {},
   "outputs": [
    {
     "name": "stdout",
     "output_type": "stream",
     "text": [
      "GPT-2 summary:\n",
      "\n",
      "The employer survey was, to use the technical term, meh — 210,000 jobs added, a\n",
      "respectable number but not what many had hoped for. And this perception of a bad\n",
      "economy is clearly weighing on President Biden’s approval rating. And if we turn our attention from consumers to businesses, what we see is a huge surge in\n",
      "capital expenditures. Finally, as I also said, it’s implausible to assert that the tone of media coverage is irrelevant.\n"
     ]
    }
   ],
   "source": [
    "GPT2_model = TransformerSummarizer(\n",
    "    transformer_type=\"GPT2\",\n",
    "    transformer_model_key=\"gpt2-large\")\n",
    "\n",
    "text = \"\".join(article2)\n",
    "\n",
    "summarize = ''.join(GPT2_model(text, \n",
    "    min_length=60, \n",
    "    max_length=150))\n",
    "\n",
    "print(\"GPT-2 summary:\", summarize, sep = \"\\n\\n\")"
   ]
  },
  {
   "cell_type": "markdown",
   "metadata": {},
   "source": [
    "### XLNet"
   ]
  },
  {
   "cell_type": "code",
   "execution_count": 16,
   "metadata": {},
   "outputs": [
    {
     "name": "stderr",
     "output_type": "stream",
     "text": [
      "Some weights of the model checkpoint at xlnet-base-cased were not used when initializing XLNetModel: ['lm_loss.weight', 'lm_loss.bias']\n",
      "- This IS expected if you are initializing XLNetModel from the checkpoint of a model trained on another task or with another architecture (e.g. initializing a BertForSequenceClassification model from a BertForPreTraining model).\n",
      "- This IS NOT expected if you are initializing XLNetModel from the checkpoint of a model that you expect to be exactly identical (initializing a BertForSequenceClassification model from a BertForSequenceClassification model).\n"
     ]
    },
    {
     "name": "stdout",
     "output_type": "stream",
     "text": [
      "XLNet summary:\n",
      "\n",
      "The employer survey was, to use the technical term, meh — 210,000 jobs added, a\n",
      "respectable number but not what many had hoped for. And this perception of a bad\n",
      "economy is clearly weighing on President Biden’s approval rating. If\n",
      "consumers are really as depressed as the sentiment numbers say, why are retail sales\n",
      "running so high? As I said, part of the answer is probably that inflation unnerves people even when their\n",
      "incomes are keeping up.\n"
     ]
    }
   ],
   "source": [
    "xln_model = TransformerSummarizer(\n",
    "    transformer_type=\"XLNet\",\n",
    "    transformer_model_key=\"xlnet-base-cased\")\n",
    "\n",
    "full = ''.join(xln_model(article2, \n",
    "                      min_length=60, \n",
    "                      max_length = 150))\n",
    "\n",
    "print(\"XLNet summary:\", full, sep = \"\\n\\n\")"
   ]
  }
 ],
 "metadata": {
  "colab": {
   "collapsed_sections": [],
   "name": "CIS 9665- NLP Term Project.ipynb",
   "provenance": []
  },
  "kernelspec": {
   "display_name": "Python 3 (ipykernel)",
   "language": "python",
   "name": "python3"
  },
  "language_info": {
   "codemirror_mode": {
    "name": "ipython",
    "version": 3
   },
   "file_extension": ".py",
   "mimetype": "text/x-python",
   "name": "python",
   "nbconvert_exporter": "python",
   "pygments_lexer": "ipython3",
   "version": "3.9.7"
  },
  "widgets": {
   "application/vnd.jupyter.widget-state+json": {
    "044a9ae9706448798e6d441697a377a4": {
     "model_module": "@jupyter-widgets/base",
     "model_module_version": "1.2.0",
     "model_name": "LayoutModel",
     "state": {
      "_model_module": "@jupyter-widgets/base",
      "_model_module_version": "1.2.0",
      "_model_name": "LayoutModel",
      "_view_count": null,
      "_view_module": "@jupyter-widgets/base",
      "_view_module_version": "1.2.0",
      "_view_name": "LayoutView",
      "align_content": null,
      "align_items": null,
      "align_self": null,
      "border": null,
      "bottom": null,
      "display": null,
      "flex": null,
      "flex_flow": null,
      "grid_area": null,
      "grid_auto_columns": null,
      "grid_auto_flow": null,
      "grid_auto_rows": null,
      "grid_column": null,
      "grid_gap": null,
      "grid_row": null,
      "grid_template_areas": null,
      "grid_template_columns": null,
      "grid_template_rows": null,
      "height": null,
      "justify_content": null,
      "justify_items": null,
      "left": null,
      "margin": null,
      "max_height": null,
      "max_width": null,
      "min_height": null,
      "min_width": null,
      "object_fit": null,
      "object_position": null,
      "order": null,
      "overflow": null,
      "overflow_x": null,
      "overflow_y": null,
      "padding": null,
      "right": null,
      "top": null,
      "visibility": null,
      "width": null
     }
    },
    "049f87f44f4742d999386146c103129e": {
     "model_module": "@jupyter-widgets/base",
     "model_module_version": "1.2.0",
     "model_name": "LayoutModel",
     "state": {
      "_model_module": "@jupyter-widgets/base",
      "_model_module_version": "1.2.0",
      "_model_name": "LayoutModel",
      "_view_count": null,
      "_view_module": "@jupyter-widgets/base",
      "_view_module_version": "1.2.0",
      "_view_name": "LayoutView",
      "align_content": null,
      "align_items": null,
      "align_self": null,
      "border": null,
      "bottom": null,
      "display": null,
      "flex": null,
      "flex_flow": null,
      "grid_area": null,
      "grid_auto_columns": null,
      "grid_auto_flow": null,
      "grid_auto_rows": null,
      "grid_column": null,
      "grid_gap": null,
      "grid_row": null,
      "grid_template_areas": null,
      "grid_template_columns": null,
      "grid_template_rows": null,
      "height": null,
      "justify_content": null,
      "justify_items": null,
      "left": null,
      "margin": null,
      "max_height": null,
      "max_width": null,
      "min_height": null,
      "min_width": null,
      "object_fit": null,
      "object_position": null,
      "order": null,
      "overflow": null,
      "overflow_x": null,
      "overflow_y": null,
      "padding": null,
      "right": null,
      "top": null,
      "visibility": null,
      "width": null
     }
    },
    "0798de3fedfb482484f9a6a8f101c832": {
     "model_module": "@jupyter-widgets/controls",
     "model_module_version": "1.5.0",
     "model_name": "HTMLModel",
     "state": {
      "_dom_classes": [],
      "_model_module": "@jupyter-widgets/controls",
      "_model_module_version": "1.5.0",
      "_model_name": "HTMLModel",
      "_view_count": null,
      "_view_module": "@jupyter-widgets/controls",
      "_view_module_version": "1.5.0",
      "_view_name": "HTMLView",
      "description": "",
      "description_tooltip": null,
      "layout": "IPY_MODEL_1a90c3958e97402ebbbda48ed83b3d60",
      "placeholder": "​",
      "style": "IPY_MODEL_76c1267384ec416285880b87f16cc0e6",
      "value": " 1.32M/1.32M [00:00&lt;00:00, 14.4MB/s]"
     }
    },
    "0942f50a467a49818925866ca3ef7736": {
     "model_module": "@jupyter-widgets/controls",
     "model_module_version": "1.5.0",
     "model_name": "HTMLModel",
     "state": {
      "_dom_classes": [],
      "_model_module": "@jupyter-widgets/controls",
      "_model_module_version": "1.5.0",
      "_model_name": "HTMLModel",
      "_view_count": null,
      "_view_module": "@jupyter-widgets/controls",
      "_view_module_version": "1.5.0",
      "_view_name": "HTMLView",
      "description": "",
      "description_tooltip": null,
      "layout": "IPY_MODEL_049f87f44f4742d999386146c103129e",
      "placeholder": "​",
      "style": "IPY_MODEL_af8999bfc2eb4fe98482e755d4535ad7",
      "value": "Downloading: 100%"
     }
    },
    "0954430893d5479cbdb4d96560019d0a": {
     "model_module": "@jupyter-widgets/controls",
     "model_module_version": "1.5.0",
     "model_name": "FloatProgressModel",
     "state": {
      "_dom_classes": [],
      "_model_module": "@jupyter-widgets/controls",
      "_model_module_version": "1.5.0",
      "_model_name": "FloatProgressModel",
      "_view_count": null,
      "_view_module": "@jupyter-widgets/controls",
      "_view_module_version": "1.5.0",
      "_view_name": "ProgressView",
      "bar_style": "success",
      "description": "",
      "description_tooltip": null,
      "layout": "IPY_MODEL_55b9b913a2ba4f2988fbb737d4c843c1",
      "max": 898823,
      "min": 0,
      "orientation": "horizontal",
      "style": "IPY_MODEL_b0493be0d739481fa0eac999fd271379",
      "value": 898823
     }
    },
    "0b26191c04ab4f37bd896f882eb5dcbe": {
     "model_module": "@jupyter-widgets/controls",
     "model_module_version": "1.5.0",
     "model_name": "HTMLModel",
     "state": {
      "_dom_classes": [],
      "_model_module": "@jupyter-widgets/controls",
      "_model_module_version": "1.5.0",
      "_model_name": "HTMLModel",
      "_view_count": null,
      "_view_module": "@jupyter-widgets/controls",
      "_view_module_version": "1.5.0",
      "_view_name": "HTMLView",
      "description": "",
      "description_tooltip": null,
      "layout": "IPY_MODEL_4467bb83080f4bb69123f7ba4a38dcca",
      "placeholder": "​",
      "style": "IPY_MODEL_76251426472f4be7a5da55827e7439a0",
      "value": "Downloading: 100%"
     }
    },
    "0bf7dd96431244c9bdbabc21b282e744": {
     "model_module": "@jupyter-widgets/controls",
     "model_module_version": "1.5.0",
     "model_name": "HBoxModel",
     "state": {
      "_dom_classes": [],
      "_model_module": "@jupyter-widgets/controls",
      "_model_module_version": "1.5.0",
      "_model_name": "HBoxModel",
      "_view_count": null,
      "_view_module": "@jupyter-widgets/controls",
      "_view_module_version": "1.5.0",
      "_view_name": "HBoxView",
      "box_style": "",
      "children": [
       "IPY_MODEL_0942f50a467a49818925866ca3ef7736",
       "IPY_MODEL_1257bd31d3b2445882ce5682e421f894",
       "IPY_MODEL_7b159df3511b47e6b8e37c397eada59c"
      ],
      "layout": "IPY_MODEL_d7027d8f8ea349b58de8987631e4c5c4"
     }
    },
    "1257bd31d3b2445882ce5682e421f894": {
     "model_module": "@jupyter-widgets/controls",
     "model_module_version": "1.5.0",
     "model_name": "FloatProgressModel",
     "state": {
      "_dom_classes": [],
      "_model_module": "@jupyter-widgets/controls",
      "_model_module_version": "1.5.0",
      "_model_name": "FloatProgressModel",
      "_view_count": null,
      "_view_module": "@jupyter-widgets/controls",
      "_view_module_version": "1.5.0",
      "_view_name": "ProgressView",
      "bar_style": "success",
      "description": "",
      "description_tooltip": null,
      "layout": "IPY_MODEL_d796c9100cec495dabf1a4b4ad355e83",
      "max": 791656,
      "min": 0,
      "orientation": "horizontal",
      "style": "IPY_MODEL_bfd6467c18564899952a3c3adb4850ef",
      "value": 791656
     }
    },
    "1a90c3958e97402ebbbda48ed83b3d60": {
     "model_module": "@jupyter-widgets/base",
     "model_module_version": "1.2.0",
     "model_name": "LayoutModel",
     "state": {
      "_model_module": "@jupyter-widgets/base",
      "_model_module_version": "1.2.0",
      "_model_name": "LayoutModel",
      "_view_count": null,
      "_view_module": "@jupyter-widgets/base",
      "_view_module_version": "1.2.0",
      "_view_name": "LayoutView",
      "align_content": null,
      "align_items": null,
      "align_self": null,
      "border": null,
      "bottom": null,
      "display": null,
      "flex": null,
      "flex_flow": null,
      "grid_area": null,
      "grid_auto_columns": null,
      "grid_auto_flow": null,
      "grid_auto_rows": null,
      "grid_column": null,
      "grid_gap": null,
      "grid_row": null,
      "grid_template_areas": null,
      "grid_template_columns": null,
      "grid_template_rows": null,
      "height": null,
      "justify_content": null,
      "justify_items": null,
      "left": null,
      "margin": null,
      "max_height": null,
      "max_width": null,
      "min_height": null,
      "min_width": null,
      "object_fit": null,
      "object_position": null,
      "order": null,
      "overflow": null,
      "overflow_x": null,
      "overflow_y": null,
      "padding": null,
      "right": null,
      "top": null,
      "visibility": null,
      "width": null
     }
    },
    "1c37dbf074ff4870a2a63819ac745d0a": {
     "model_module": "@jupyter-widgets/base",
     "model_module_version": "1.2.0",
     "model_name": "LayoutModel",
     "state": {
      "_model_module": "@jupyter-widgets/base",
      "_model_module_version": "1.2.0",
      "_model_name": "LayoutModel",
      "_view_count": null,
      "_view_module": "@jupyter-widgets/base",
      "_view_module_version": "1.2.0",
      "_view_name": "LayoutView",
      "align_content": null,
      "align_items": null,
      "align_self": null,
      "border": null,
      "bottom": null,
      "display": null,
      "flex": null,
      "flex_flow": null,
      "grid_area": null,
      "grid_auto_columns": null,
      "grid_auto_flow": null,
      "grid_auto_rows": null,
      "grid_column": null,
      "grid_gap": null,
      "grid_row": null,
      "grid_template_areas": null,
      "grid_template_columns": null,
      "grid_template_rows": null,
      "height": null,
      "justify_content": null,
      "justify_items": null,
      "left": null,
      "margin": null,
      "max_height": null,
      "max_width": null,
      "min_height": null,
      "min_width": null,
      "object_fit": null,
      "object_position": null,
      "order": null,
      "overflow": null,
      "overflow_x": null,
      "overflow_y": null,
      "padding": null,
      "right": null,
      "top": null,
      "visibility": null,
      "width": null
     }
    },
    "1efddc8c68294af8881fd1fa51735e42": {
     "model_module": "@jupyter-widgets/controls",
     "model_module_version": "1.5.0",
     "model_name": "DescriptionStyleModel",
     "state": {
      "_model_module": "@jupyter-widgets/controls",
      "_model_module_version": "1.5.0",
      "_model_name": "DescriptionStyleModel",
      "_view_count": null,
      "_view_module": "@jupyter-widgets/base",
      "_view_module_version": "1.2.0",
      "_view_name": "StyleView",
      "description_width": ""
     }
    },
    "22f557460f79431495706dbd2d28ff8e": {
     "model_module": "@jupyter-widgets/controls",
     "model_module_version": "1.5.0",
     "model_name": "HTMLModel",
     "state": {
      "_dom_classes": [],
      "_model_module": "@jupyter-widgets/controls",
      "_model_module_version": "1.5.0",
      "_model_name": "HTMLModel",
      "_view_count": null,
      "_view_module": "@jupyter-widgets/controls",
      "_view_module_version": "1.5.0",
      "_view_name": "HTMLView",
      "description": "",
      "description_tooltip": null,
      "layout": "IPY_MODEL_8e42aa500d004700be5a8ffa361675b8",
      "placeholder": "​",
      "style": "IPY_MODEL_3166e880e2a741c9b0ed1e0cca23d601",
      "value": "Downloading: 100%"
     }
    },
    "2cd8a614bd9f4810ae16ab26bc0fa753": {
     "model_module": "@jupyter-widgets/controls",
     "model_module_version": "1.5.0",
     "model_name": "HTMLModel",
     "state": {
      "_dom_classes": [],
      "_model_module": "@jupyter-widgets/controls",
      "_model_module_version": "1.5.0",
      "_model_name": "HTMLModel",
      "_view_count": null,
      "_view_module": "@jupyter-widgets/controls",
      "_view_module_version": "1.5.0",
      "_view_name": "HTMLView",
      "description": "",
      "description_tooltip": null,
      "layout": "IPY_MODEL_044a9ae9706448798e6d441697a377a4",
      "placeholder": "​",
      "style": "IPY_MODEL_48386501718e41239caf0b1c3f08c27f",
      "value": "Downloading: 100%"
     }
    },
    "2d7c792b06ce43daa97f0554faf6b772": {
     "model_module": "@jupyter-widgets/controls",
     "model_module_version": "1.5.0",
     "model_name": "FloatProgressModel",
     "state": {
      "_dom_classes": [],
      "_model_module": "@jupyter-widgets/controls",
      "_model_module_version": "1.5.0",
      "_model_name": "FloatProgressModel",
      "_view_count": null,
      "_view_module": "@jupyter-widgets/controls",
      "_view_module_version": "1.5.0",
      "_view_name": "ProgressView",
      "bar_style": "success",
      "description": "",
      "description_tooltip": null,
      "layout": "IPY_MODEL_c8fe2f78908c4862a9fa45895f847a7c",
      "max": 1197,
      "min": 0,
      "orientation": "horizontal",
      "style": "IPY_MODEL_dedf43e406fc4aa891c5ba44a51e9a5b",
      "value": 1197
     }
    },
    "2eecdaf469c24818ba2fdaa5209df5d3": {
     "model_module": "@jupyter-widgets/controls",
     "model_module_version": "1.5.0",
     "model_name": "DescriptionStyleModel",
     "state": {
      "_model_module": "@jupyter-widgets/controls",
      "_model_module_version": "1.5.0",
      "_model_name": "DescriptionStyleModel",
      "_view_count": null,
      "_view_module": "@jupyter-widgets/base",
      "_view_module_version": "1.2.0",
      "_view_name": "StyleView",
      "description_width": ""
     }
    },
    "307fedc2a7294ad2aa7a875c791715d4": {
     "model_module": "@jupyter-widgets/base",
     "model_module_version": "1.2.0",
     "model_name": "LayoutModel",
     "state": {
      "_model_module": "@jupyter-widgets/base",
      "_model_module_version": "1.2.0",
      "_model_name": "LayoutModel",
      "_view_count": null,
      "_view_module": "@jupyter-widgets/base",
      "_view_module_version": "1.2.0",
      "_view_name": "LayoutView",
      "align_content": null,
      "align_items": null,
      "align_self": null,
      "border": null,
      "bottom": null,
      "display": null,
      "flex": null,
      "flex_flow": null,
      "grid_area": null,
      "grid_auto_columns": null,
      "grid_auto_flow": null,
      "grid_auto_rows": null,
      "grid_column": null,
      "grid_gap": null,
      "grid_row": null,
      "grid_template_areas": null,
      "grid_template_columns": null,
      "grid_template_rows": null,
      "height": null,
      "justify_content": null,
      "justify_items": null,
      "left": null,
      "margin": null,
      "max_height": null,
      "max_width": null,
      "min_height": null,
      "min_width": null,
      "object_fit": null,
      "object_position": null,
      "order": null,
      "overflow": null,
      "overflow_x": null,
      "overflow_y": null,
      "padding": null,
      "right": null,
      "top": null,
      "visibility": null,
      "width": null
     }
    },
    "3098e6a146d040df9247c6c8eb43a62d": {
     "model_module": "@jupyter-widgets/base",
     "model_module_version": "1.2.0",
     "model_name": "LayoutModel",
     "state": {
      "_model_module": "@jupyter-widgets/base",
      "_model_module_version": "1.2.0",
      "_model_name": "LayoutModel",
      "_view_count": null,
      "_view_module": "@jupyter-widgets/base",
      "_view_module_version": "1.2.0",
      "_view_name": "LayoutView",
      "align_content": null,
      "align_items": null,
      "align_self": null,
      "border": null,
      "bottom": null,
      "display": null,
      "flex": null,
      "flex_flow": null,
      "grid_area": null,
      "grid_auto_columns": null,
      "grid_auto_flow": null,
      "grid_auto_rows": null,
      "grid_column": null,
      "grid_gap": null,
      "grid_row": null,
      "grid_template_areas": null,
      "grid_template_columns": null,
      "grid_template_rows": null,
      "height": null,
      "justify_content": null,
      "justify_items": null,
      "left": null,
      "margin": null,
      "max_height": null,
      "max_width": null,
      "min_height": null,
      "min_width": null,
      "object_fit": null,
      "object_position": null,
      "order": null,
      "overflow": null,
      "overflow_x": null,
      "overflow_y": null,
      "padding": null,
      "right": null,
      "top": null,
      "visibility": null,
      "width": null
     }
    },
    "3166e880e2a741c9b0ed1e0cca23d601": {
     "model_module": "@jupyter-widgets/controls",
     "model_module_version": "1.5.0",
     "model_name": "DescriptionStyleModel",
     "state": {
      "_model_module": "@jupyter-widgets/controls",
      "_model_module_version": "1.5.0",
      "_model_name": "DescriptionStyleModel",
      "_view_count": null,
      "_view_module": "@jupyter-widgets/base",
      "_view_module_version": "1.2.0",
      "_view_name": "StyleView",
      "description_width": ""
     }
    },
    "332e574d7d3b4cd58be30e5499f927e1": {
     "model_module": "@jupyter-widgets/base",
     "model_module_version": "1.2.0",
     "model_name": "LayoutModel",
     "state": {
      "_model_module": "@jupyter-widgets/base",
      "_model_module_version": "1.2.0",
      "_model_name": "LayoutModel",
      "_view_count": null,
      "_view_module": "@jupyter-widgets/base",
      "_view_module_version": "1.2.0",
      "_view_name": "LayoutView",
      "align_content": null,
      "align_items": null,
      "align_self": null,
      "border": null,
      "bottom": null,
      "display": null,
      "flex": null,
      "flex_flow": null,
      "grid_area": null,
      "grid_auto_columns": null,
      "grid_auto_flow": null,
      "grid_auto_rows": null,
      "grid_column": null,
      "grid_gap": null,
      "grid_row": null,
      "grid_template_areas": null,
      "grid_template_columns": null,
      "grid_template_rows": null,
      "height": null,
      "justify_content": null,
      "justify_items": null,
      "left": null,
      "margin": null,
      "max_height": null,
      "max_width": null,
      "min_height": null,
      "min_width": null,
      "object_fit": null,
      "object_position": null,
      "order": null,
      "overflow": null,
      "overflow_x": null,
      "overflow_y": null,
      "padding": null,
      "right": null,
      "top": null,
      "visibility": null,
      "width": null
     }
    },
    "3504c778164e4ef183c35266e79bd494": {
     "model_module": "@jupyter-widgets/base",
     "model_module_version": "1.2.0",
     "model_name": "LayoutModel",
     "state": {
      "_model_module": "@jupyter-widgets/base",
      "_model_module_version": "1.2.0",
      "_model_name": "LayoutModel",
      "_view_count": null,
      "_view_module": "@jupyter-widgets/base",
      "_view_module_version": "1.2.0",
      "_view_name": "LayoutView",
      "align_content": null,
      "align_items": null,
      "align_self": null,
      "border": null,
      "bottom": null,
      "display": null,
      "flex": null,
      "flex_flow": null,
      "grid_area": null,
      "grid_auto_columns": null,
      "grid_auto_flow": null,
      "grid_auto_rows": null,
      "grid_column": null,
      "grid_gap": null,
      "grid_row": null,
      "grid_template_areas": null,
      "grid_template_columns": null,
      "grid_template_rows": null,
      "height": null,
      "justify_content": null,
      "justify_items": null,
      "left": null,
      "margin": null,
      "max_height": null,
      "max_width": null,
      "min_height": null,
      "min_width": null,
      "object_fit": null,
      "object_position": null,
      "order": null,
      "overflow": null,
      "overflow_x": null,
      "overflow_y": null,
      "padding": null,
      "right": null,
      "top": null,
      "visibility": null,
      "width": null
     }
    },
    "3a04755c50d74751834bb9749fd5a34c": {
     "model_module": "@jupyter-widgets/base",
     "model_module_version": "1.2.0",
     "model_name": "LayoutModel",
     "state": {
      "_model_module": "@jupyter-widgets/base",
      "_model_module_version": "1.2.0",
      "_model_name": "LayoutModel",
      "_view_count": null,
      "_view_module": "@jupyter-widgets/base",
      "_view_module_version": "1.2.0",
      "_view_name": "LayoutView",
      "align_content": null,
      "align_items": null,
      "align_self": null,
      "border": null,
      "bottom": null,
      "display": null,
      "flex": null,
      "flex_flow": null,
      "grid_area": null,
      "grid_auto_columns": null,
      "grid_auto_flow": null,
      "grid_auto_rows": null,
      "grid_column": null,
      "grid_gap": null,
      "grid_row": null,
      "grid_template_areas": null,
      "grid_template_columns": null,
      "grid_template_rows": null,
      "height": null,
      "justify_content": null,
      "justify_items": null,
      "left": null,
      "margin": null,
      "max_height": null,
      "max_width": null,
      "min_height": null,
      "min_width": null,
      "object_fit": null,
      "object_position": null,
      "order": null,
      "overflow": null,
      "overflow_x": null,
      "overflow_y": null,
      "padding": null,
      "right": null,
      "top": null,
      "visibility": null,
      "width": null
     }
    },
    "3c9f5309d18c4d64a862f9fc6891b23d": {
     "model_module": "@jupyter-widgets/base",
     "model_module_version": "1.2.0",
     "model_name": "LayoutModel",
     "state": {
      "_model_module": "@jupyter-widgets/base",
      "_model_module_version": "1.2.0",
      "_model_name": "LayoutModel",
      "_view_count": null,
      "_view_module": "@jupyter-widgets/base",
      "_view_module_version": "1.2.0",
      "_view_name": "LayoutView",
      "align_content": null,
      "align_items": null,
      "align_self": null,
      "border": null,
      "bottom": null,
      "display": null,
      "flex": null,
      "flex_flow": null,
      "grid_area": null,
      "grid_auto_columns": null,
      "grid_auto_flow": null,
      "grid_auto_rows": null,
      "grid_column": null,
      "grid_gap": null,
      "grid_row": null,
      "grid_template_areas": null,
      "grid_template_columns": null,
      "grid_template_rows": null,
      "height": null,
      "justify_content": null,
      "justify_items": null,
      "left": null,
      "margin": null,
      "max_height": null,
      "max_width": null,
      "min_height": null,
      "min_width": null,
      "object_fit": null,
      "object_position": null,
      "order": null,
      "overflow": null,
      "overflow_x": null,
      "overflow_y": null,
      "padding": null,
      "right": null,
      "top": null,
      "visibility": null,
      "width": null
     }
    },
    "3efcdb54a07349e6ae1c5c803f52fad1": {
     "model_module": "@jupyter-widgets/controls",
     "model_module_version": "1.5.0",
     "model_name": "ProgressStyleModel",
     "state": {
      "_model_module": "@jupyter-widgets/controls",
      "_model_module_version": "1.5.0",
      "_model_name": "ProgressStyleModel",
      "_view_count": null,
      "_view_module": "@jupyter-widgets/base",
      "_view_module_version": "1.2.0",
      "_view_name": "StyleView",
      "bar_color": null,
      "description_width": ""
     }
    },
    "424ca194a9a3486688ebcfe3fbb668c0": {
     "model_module": "@jupyter-widgets/controls",
     "model_module_version": "1.5.0",
     "model_name": "HTMLModel",
     "state": {
      "_dom_classes": [],
      "_model_module": "@jupyter-widgets/controls",
      "_model_module_version": "1.5.0",
      "_model_name": "HTMLModel",
      "_view_count": null,
      "_view_module": "@jupyter-widgets/controls",
      "_view_module_version": "1.5.0",
      "_view_name": "HTMLView",
      "description": "",
      "description_tooltip": null,
      "layout": "IPY_MODEL_dc541fd0d96449949612996f4a352e79",
      "placeholder": "​",
      "style": "IPY_MODEL_4f2bf05ca0274c74ab58e5757dd17bca",
      "value": " 1.17k/1.17k [00:00&lt;00:00, 30.1kB/s]"
     }
    },
    "431215d7588149ad8ee7a784fbbac923": {
     "model_module": "@jupyter-widgets/base",
     "model_module_version": "1.2.0",
     "model_name": "LayoutModel",
     "state": {
      "_model_module": "@jupyter-widgets/base",
      "_model_module_version": "1.2.0",
      "_model_name": "LayoutModel",
      "_view_count": null,
      "_view_module": "@jupyter-widgets/base",
      "_view_module_version": "1.2.0",
      "_view_name": "LayoutView",
      "align_content": null,
      "align_items": null,
      "align_self": null,
      "border": null,
      "bottom": null,
      "display": null,
      "flex": null,
      "flex_flow": null,
      "grid_area": null,
      "grid_auto_columns": null,
      "grid_auto_flow": null,
      "grid_auto_rows": null,
      "grid_column": null,
      "grid_gap": null,
      "grid_row": null,
      "grid_template_areas": null,
      "grid_template_columns": null,
      "grid_template_rows": null,
      "height": null,
      "justify_content": null,
      "justify_items": null,
      "left": null,
      "margin": null,
      "max_height": null,
      "max_width": null,
      "min_height": null,
      "min_width": null,
      "object_fit": null,
      "object_position": null,
      "order": null,
      "overflow": null,
      "overflow_x": null,
      "overflow_y": null,
      "padding": null,
      "right": null,
      "top": null,
      "visibility": null,
      "width": null
     }
    },
    "43ee94f0417e470c8613ac984d30ada2": {
     "model_module": "@jupyter-widgets/base",
     "model_module_version": "1.2.0",
     "model_name": "LayoutModel",
     "state": {
      "_model_module": "@jupyter-widgets/base",
      "_model_module_version": "1.2.0",
      "_model_name": "LayoutModel",
      "_view_count": null,
      "_view_module": "@jupyter-widgets/base",
      "_view_module_version": "1.2.0",
      "_view_name": "LayoutView",
      "align_content": null,
      "align_items": null,
      "align_self": null,
      "border": null,
      "bottom": null,
      "display": null,
      "flex": null,
      "flex_flow": null,
      "grid_area": null,
      "grid_auto_columns": null,
      "grid_auto_flow": null,
      "grid_auto_rows": null,
      "grid_column": null,
      "grid_gap": null,
      "grid_row": null,
      "grid_template_areas": null,
      "grid_template_columns": null,
      "grid_template_rows": null,
      "height": null,
      "justify_content": null,
      "justify_items": null,
      "left": null,
      "margin": null,
      "max_height": null,
      "max_width": null,
      "min_height": null,
      "min_width": null,
      "object_fit": null,
      "object_position": null,
      "order": null,
      "overflow": null,
      "overflow_x": null,
      "overflow_y": null,
      "padding": null,
      "right": null,
      "top": null,
      "visibility": null,
      "width": null
     }
    },
    "4467bb83080f4bb69123f7ba4a38dcca": {
     "model_module": "@jupyter-widgets/base",
     "model_module_version": "1.2.0",
     "model_name": "LayoutModel",
     "state": {
      "_model_module": "@jupyter-widgets/base",
      "_model_module_version": "1.2.0",
      "_model_name": "LayoutModel",
      "_view_count": null,
      "_view_module": "@jupyter-widgets/base",
      "_view_module_version": "1.2.0",
      "_view_name": "LayoutView",
      "align_content": null,
      "align_items": null,
      "align_self": null,
      "border": null,
      "bottom": null,
      "display": null,
      "flex": null,
      "flex_flow": null,
      "grid_area": null,
      "grid_auto_columns": null,
      "grid_auto_flow": null,
      "grid_auto_rows": null,
      "grid_column": null,
      "grid_gap": null,
      "grid_row": null,
      "grid_template_areas": null,
      "grid_template_columns": null,
      "grid_template_rows": null,
      "height": null,
      "justify_content": null,
      "justify_items": null,
      "left": null,
      "margin": null,
      "max_height": null,
      "max_width": null,
      "min_height": null,
      "min_width": null,
      "object_fit": null,
      "object_position": null,
      "order": null,
      "overflow": null,
      "overflow_x": null,
      "overflow_y": null,
      "padding": null,
      "right": null,
      "top": null,
      "visibility": null,
      "width": null
     }
    },
    "446a386c07e24bc0be13dc96aa587b1a": {
     "model_module": "@jupyter-widgets/controls",
     "model_module_version": "1.5.0",
     "model_name": "HTMLModel",
     "state": {
      "_dom_classes": [],
      "_model_module": "@jupyter-widgets/controls",
      "_model_module_version": "1.5.0",
      "_model_name": "HTMLModel",
      "_view_count": null,
      "_view_module": "@jupyter-widgets/controls",
      "_view_module_version": "1.5.0",
      "_view_name": "HTMLView",
      "description": "",
      "description_tooltip": null,
      "layout": "IPY_MODEL_3a04755c50d74751834bb9749fd5a34c",
      "placeholder": "​",
      "style": "IPY_MODEL_d7adbc69027b4046acbfb73322883345",
      "value": "Downloading: 100%"
     }
    },
    "44feb0346e08475084091bfb5085c2b4": {
     "model_module": "@jupyter-widgets/controls",
     "model_module_version": "1.5.0",
     "model_name": "DescriptionStyleModel",
     "state": {
      "_model_module": "@jupyter-widgets/controls",
      "_model_module_version": "1.5.0",
      "_model_name": "DescriptionStyleModel",
      "_view_count": null,
      "_view_module": "@jupyter-widgets/base",
      "_view_module_version": "1.2.0",
      "_view_name": "StyleView",
      "description_width": ""
     }
    },
    "48386501718e41239caf0b1c3f08c27f": {
     "model_module": "@jupyter-widgets/controls",
     "model_module_version": "1.5.0",
     "model_name": "DescriptionStyleModel",
     "state": {
      "_model_module": "@jupyter-widgets/controls",
      "_model_module_version": "1.5.0",
      "_model_name": "DescriptionStyleModel",
      "_view_count": null,
      "_view_module": "@jupyter-widgets/base",
      "_view_module_version": "1.2.0",
      "_view_name": "StyleView",
      "description_width": ""
     }
    },
    "4d6cd4105e4844feb552e5f8134168cc": {
     "model_module": "@jupyter-widgets/controls",
     "model_module_version": "1.5.0",
     "model_name": "HBoxModel",
     "state": {
      "_dom_classes": [],
      "_model_module": "@jupyter-widgets/controls",
      "_model_module_version": "1.5.0",
      "_model_name": "HBoxModel",
      "_view_count": null,
      "_view_module": "@jupyter-widgets/controls",
      "_view_module_version": "1.5.0",
      "_view_name": "HBoxView",
      "box_style": "",
      "children": [
       "IPY_MODEL_0b26191c04ab4f37bd896f882eb5dcbe",
       "IPY_MODEL_6ee661f6cb634bf3972fc9378f46b44c",
       "IPY_MODEL_810958bd19204f0eb695f17fe7751a9b"
      ],
      "layout": "IPY_MODEL_3098e6a146d040df9247c6c8eb43a62d"
     }
    },
    "4f2bf05ca0274c74ab58e5757dd17bca": {
     "model_module": "@jupyter-widgets/controls",
     "model_module_version": "1.5.0",
     "model_name": "DescriptionStyleModel",
     "state": {
      "_model_module": "@jupyter-widgets/controls",
      "_model_module_version": "1.5.0",
      "_model_name": "DescriptionStyleModel",
      "_view_count": null,
      "_view_module": "@jupyter-widgets/base",
      "_view_module_version": "1.2.0",
      "_view_name": "StyleView",
      "description_width": ""
     }
    },
    "556c4ad81fbb4aef8dab713edd652e8c": {
     "model_module": "@jupyter-widgets/base",
     "model_module_version": "1.2.0",
     "model_name": "LayoutModel",
     "state": {
      "_model_module": "@jupyter-widgets/base",
      "_model_module_version": "1.2.0",
      "_model_name": "LayoutModel",
      "_view_count": null,
      "_view_module": "@jupyter-widgets/base",
      "_view_module_version": "1.2.0",
      "_view_name": "LayoutView",
      "align_content": null,
      "align_items": null,
      "align_self": null,
      "border": null,
      "bottom": null,
      "display": null,
      "flex": null,
      "flex_flow": null,
      "grid_area": null,
      "grid_auto_columns": null,
      "grid_auto_flow": null,
      "grid_auto_rows": null,
      "grid_column": null,
      "grid_gap": null,
      "grid_row": null,
      "grid_template_areas": null,
      "grid_template_columns": null,
      "grid_template_rows": null,
      "height": null,
      "justify_content": null,
      "justify_items": null,
      "left": null,
      "margin": null,
      "max_height": null,
      "max_width": null,
      "min_height": null,
      "min_width": null,
      "object_fit": null,
      "object_position": null,
      "order": null,
      "overflow": null,
      "overflow_x": null,
      "overflow_y": null,
      "padding": null,
      "right": null,
      "top": null,
      "visibility": null,
      "width": null
     }
    },
    "55b9b913a2ba4f2988fbb737d4c843c1": {
     "model_module": "@jupyter-widgets/base",
     "model_module_version": "1.2.0",
     "model_name": "LayoutModel",
     "state": {
      "_model_module": "@jupyter-widgets/base",
      "_model_module_version": "1.2.0",
      "_model_name": "LayoutModel",
      "_view_count": null,
      "_view_module": "@jupyter-widgets/base",
      "_view_module_version": "1.2.0",
      "_view_name": "LayoutView",
      "align_content": null,
      "align_items": null,
      "align_self": null,
      "border": null,
      "bottom": null,
      "display": null,
      "flex": null,
      "flex_flow": null,
      "grid_area": null,
      "grid_auto_columns": null,
      "grid_auto_flow": null,
      "grid_auto_rows": null,
      "grid_column": null,
      "grid_gap": null,
      "grid_row": null,
      "grid_template_areas": null,
      "grid_template_columns": null,
      "grid_template_rows": null,
      "height": null,
      "justify_content": null,
      "justify_items": null,
      "left": null,
      "margin": null,
      "max_height": null,
      "max_width": null,
      "min_height": null,
      "min_width": null,
      "object_fit": null,
      "object_position": null,
      "order": null,
      "overflow": null,
      "overflow_x": null,
      "overflow_y": null,
      "padding": null,
      "right": null,
      "top": null,
      "visibility": null,
      "width": null
     }
    },
    "565baabebfdc42e899a25f6fb2178102": {
     "model_module": "@jupyter-widgets/controls",
     "model_module_version": "1.5.0",
     "model_name": "FloatProgressModel",
     "state": {
      "_dom_classes": [],
      "_model_module": "@jupyter-widgets/controls",
      "_model_module_version": "1.5.0",
      "_model_name": "FloatProgressModel",
      "_view_count": null,
      "_view_module": "@jupyter-widgets/controls",
      "_view_module_version": "1.5.0",
      "_view_name": "ProgressView",
      "bar_style": "success",
      "description": "",
      "description_tooltip": null,
      "layout": "IPY_MODEL_43ee94f0417e470c8613ac984d30ada2",
      "max": 1585,
      "min": 0,
      "orientation": "horizontal",
      "style": "IPY_MODEL_d18ca3220b714730b1083a9551c54110",
      "value": 1585
     }
    },
    "57248c3967b248b98698068b510287f7": {
     "model_module": "@jupyter-widgets/controls",
     "model_module_version": "1.5.0",
     "model_name": "HTMLModel",
     "state": {
      "_dom_classes": [],
      "_model_module": "@jupyter-widgets/controls",
      "_model_module_version": "1.5.0",
      "_model_name": "HTMLModel",
      "_view_count": null,
      "_view_module": "@jupyter-widgets/controls",
      "_view_module_version": "1.5.0",
      "_view_name": "HTMLView",
      "description": "",
      "description_tooltip": null,
      "layout": "IPY_MODEL_f653bdcb96064a3190b0be423c3c7e34",
      "placeholder": "​",
      "style": "IPY_MODEL_d271ab0cbd9a465c98b0b0243de14805",
      "value": "Downloading: 100%"
     }
    },
    "5cce08d024804ef9b341f64370cd4b24": {
     "model_module": "@jupyter-widgets/base",
     "model_module_version": "1.2.0",
     "model_name": "LayoutModel",
     "state": {
      "_model_module": "@jupyter-widgets/base",
      "_model_module_version": "1.2.0",
      "_model_name": "LayoutModel",
      "_view_count": null,
      "_view_module": "@jupyter-widgets/base",
      "_view_module_version": "1.2.0",
      "_view_name": "LayoutView",
      "align_content": null,
      "align_items": null,
      "align_self": null,
      "border": null,
      "bottom": null,
      "display": null,
      "flex": null,
      "flex_flow": null,
      "grid_area": null,
      "grid_auto_columns": null,
      "grid_auto_flow": null,
      "grid_auto_rows": null,
      "grid_column": null,
      "grid_gap": null,
      "grid_row": null,
      "grid_template_areas": null,
      "grid_template_columns": null,
      "grid_template_rows": null,
      "height": null,
      "justify_content": null,
      "justify_items": null,
      "left": null,
      "margin": null,
      "max_height": null,
      "max_width": null,
      "min_height": null,
      "min_width": null,
      "object_fit": null,
      "object_position": null,
      "order": null,
      "overflow": null,
      "overflow_x": null,
      "overflow_y": null,
      "padding": null,
      "right": null,
      "top": null,
      "visibility": null,
      "width": null
     }
    },
    "64681403cdcd4a88b96fe5706d439aa2": {
     "model_module": "@jupyter-widgets/controls",
     "model_module_version": "1.5.0",
     "model_name": "HTMLModel",
     "state": {
      "_dom_classes": [],
      "_model_module": "@jupyter-widgets/controls",
      "_model_module_version": "1.5.0",
      "_model_name": "HTMLModel",
      "_view_count": null,
      "_view_module": "@jupyter-widgets/controls",
      "_view_module_version": "1.5.0",
      "_view_name": "HTMLView",
      "description": "",
      "description_tooltip": null,
      "layout": "IPY_MODEL_7fc975bfb04c4ae6a29bc5d847e4be83",
      "placeholder": "​",
      "style": "IPY_MODEL_2eecdaf469c24818ba2fdaa5209df5d3",
      "value": "Downloading: 100%"
     }
    },
    "6ee661f6cb634bf3972fc9378f46b44c": {
     "model_module": "@jupyter-widgets/controls",
     "model_module_version": "1.5.0",
     "model_name": "FloatProgressModel",
     "state": {
      "_dom_classes": [],
      "_model_module": "@jupyter-widgets/controls",
      "_model_module_version": "1.5.0",
      "_model_name": "FloatProgressModel",
      "_view_count": null,
      "_view_module": "@jupyter-widgets/controls",
      "_view_module_version": "1.5.0",
      "_view_name": "ProgressView",
      "bar_style": "success",
      "description": "",
      "description_tooltip": null,
      "layout": "IPY_MODEL_83feed53f81143d9b9e79f57d539b2ea",
      "max": 1625270765,
      "min": 0,
      "orientation": "horizontal",
      "style": "IPY_MODEL_e8dcf1e5b59544e2a5a728c4309312a0",
      "value": 1625270765
     }
    },
    "72dcc96bf7ca494ea923fc62fd0a2c18": {
     "model_module": "@jupyter-widgets/base",
     "model_module_version": "1.2.0",
     "model_name": "LayoutModel",
     "state": {
      "_model_module": "@jupyter-widgets/base",
      "_model_module_version": "1.2.0",
      "_model_name": "LayoutModel",
      "_view_count": null,
      "_view_module": "@jupyter-widgets/base",
      "_view_module_version": "1.2.0",
      "_view_name": "LayoutView",
      "align_content": null,
      "align_items": null,
      "align_self": null,
      "border": null,
      "bottom": null,
      "display": null,
      "flex": null,
      "flex_flow": null,
      "grid_area": null,
      "grid_auto_columns": null,
      "grid_auto_flow": null,
      "grid_auto_rows": null,
      "grid_column": null,
      "grid_gap": null,
      "grid_row": null,
      "grid_template_areas": null,
      "grid_template_columns": null,
      "grid_template_rows": null,
      "height": null,
      "justify_content": null,
      "justify_items": null,
      "left": null,
      "margin": null,
      "max_height": null,
      "max_width": null,
      "min_height": null,
      "min_width": null,
      "object_fit": null,
      "object_position": null,
      "order": null,
      "overflow": null,
      "overflow_x": null,
      "overflow_y": null,
      "padding": null,
      "right": null,
      "top": null,
      "visibility": null,
      "width": null
     }
    },
    "75990548ceba4457a57b99d5de424293": {
     "model_module": "@jupyter-widgets/base",
     "model_module_version": "1.2.0",
     "model_name": "LayoutModel",
     "state": {
      "_model_module": "@jupyter-widgets/base",
      "_model_module_version": "1.2.0",
      "_model_name": "LayoutModel",
      "_view_count": null,
      "_view_module": "@jupyter-widgets/base",
      "_view_module_version": "1.2.0",
      "_view_name": "LayoutView",
      "align_content": null,
      "align_items": null,
      "align_self": null,
      "border": null,
      "bottom": null,
      "display": null,
      "flex": null,
      "flex_flow": null,
      "grid_area": null,
      "grid_auto_columns": null,
      "grid_auto_flow": null,
      "grid_auto_rows": null,
      "grid_column": null,
      "grid_gap": null,
      "grid_row": null,
      "grid_template_areas": null,
      "grid_template_columns": null,
      "grid_template_rows": null,
      "height": null,
      "justify_content": null,
      "justify_items": null,
      "left": null,
      "margin": null,
      "max_height": null,
      "max_width": null,
      "min_height": null,
      "min_width": null,
      "object_fit": null,
      "object_position": null,
      "order": null,
      "overflow": null,
      "overflow_x": null,
      "overflow_y": null,
      "padding": null,
      "right": null,
      "top": null,
      "visibility": null,
      "width": null
     }
    },
    "75bc879e12a14cea91651f79fec612d2": {
     "model_module": "@jupyter-widgets/base",
     "model_module_version": "1.2.0",
     "model_name": "LayoutModel",
     "state": {
      "_model_module": "@jupyter-widgets/base",
      "_model_module_version": "1.2.0",
      "_model_name": "LayoutModel",
      "_view_count": null,
      "_view_module": "@jupyter-widgets/base",
      "_view_module_version": "1.2.0",
      "_view_name": "LayoutView",
      "align_content": null,
      "align_items": null,
      "align_self": null,
      "border": null,
      "bottom": null,
      "display": null,
      "flex": null,
      "flex_flow": null,
      "grid_area": null,
      "grid_auto_columns": null,
      "grid_auto_flow": null,
      "grid_auto_rows": null,
      "grid_column": null,
      "grid_gap": null,
      "grid_row": null,
      "grid_template_areas": null,
      "grid_template_columns": null,
      "grid_template_rows": null,
      "height": null,
      "justify_content": null,
      "justify_items": null,
      "left": null,
      "margin": null,
      "max_height": null,
      "max_width": null,
      "min_height": null,
      "min_width": null,
      "object_fit": null,
      "object_position": null,
      "order": null,
      "overflow": null,
      "overflow_x": null,
      "overflow_y": null,
      "padding": null,
      "right": null,
      "top": null,
      "visibility": null,
      "width": null
     }
    },
    "76251426472f4be7a5da55827e7439a0": {
     "model_module": "@jupyter-widgets/controls",
     "model_module_version": "1.5.0",
     "model_name": "DescriptionStyleModel",
     "state": {
      "_model_module": "@jupyter-widgets/controls",
      "_model_module_version": "1.5.0",
      "_model_name": "DescriptionStyleModel",
      "_view_count": null,
      "_view_module": "@jupyter-widgets/base",
      "_view_module_version": "1.2.0",
      "_view_name": "StyleView",
      "description_width": ""
     }
    },
    "76c1267384ec416285880b87f16cc0e6": {
     "model_module": "@jupyter-widgets/controls",
     "model_module_version": "1.5.0",
     "model_name": "DescriptionStyleModel",
     "state": {
      "_model_module": "@jupyter-widgets/controls",
      "_model_module_version": "1.5.0",
      "_model_name": "DescriptionStyleModel",
      "_view_count": null,
      "_view_module": "@jupyter-widgets/base",
      "_view_module_version": "1.2.0",
      "_view_name": "StyleView",
      "description_width": ""
     }
    },
    "7b159df3511b47e6b8e37c397eada59c": {
     "model_module": "@jupyter-widgets/controls",
     "model_module_version": "1.5.0",
     "model_name": "HTMLModel",
     "state": {
      "_dom_classes": [],
      "_model_module": "@jupyter-widgets/controls",
      "_model_module_version": "1.5.0",
      "_model_name": "HTMLModel",
      "_view_count": null,
      "_view_module": "@jupyter-widgets/controls",
      "_view_module_version": "1.5.0",
      "_view_name": "HTMLView",
      "description": "",
      "description_tooltip": null,
      "layout": "IPY_MODEL_556c4ad81fbb4aef8dab713edd652e8c",
      "placeholder": "​",
      "style": "IPY_MODEL_e4c37ca4065e45f4a04066d3c790150c",
      "value": " 773k/773k [00:00&lt;00:00, 9.20MB/s]"
     }
    },
    "7b7c086662884062924f0d8e93990282": {
     "model_module": "@jupyter-widgets/controls",
     "model_module_version": "1.5.0",
     "model_name": "FloatProgressModel",
     "state": {
      "_dom_classes": [],
      "_model_module": "@jupyter-widgets/controls",
      "_model_module_version": "1.5.0",
      "_model_name": "FloatProgressModel",
      "_view_count": null,
      "_view_module": "@jupyter-widgets/controls",
      "_view_module_version": "1.5.0",
      "_view_name": "ProgressView",
      "bar_style": "success",
      "description": "",
      "description_tooltip": null,
      "layout": "IPY_MODEL_dd91c9a11a804e6e92934881714bd50c",
      "max": 1355863,
      "min": 0,
      "orientation": "horizontal",
      "style": "IPY_MODEL_e7eb08e519354e5bb1fdbda3dad96022",
      "value": 1355863
     }
    },
    "7cc9eb2086de464ba7d6d098c69ae1d3": {
     "model_module": "@jupyter-widgets/controls",
     "model_module_version": "1.5.0",
     "model_name": "FloatProgressModel",
     "state": {
      "_dom_classes": [],
      "_model_module": "@jupyter-widgets/controls",
      "_model_module_version": "1.5.0",
      "_model_name": "FloatProgressModel",
      "_view_count": null,
      "_view_module": "@jupyter-widgets/controls",
      "_view_module_version": "1.5.0",
      "_view_name": "ProgressView",
      "bar_style": "success",
      "description": "",
      "description_tooltip": null,
      "layout": "IPY_MODEL_75bc879e12a14cea91651f79fec612d2",
      "max": 456318,
      "min": 0,
      "orientation": "horizontal",
      "style": "IPY_MODEL_fcb9ddb351ee498090f2aaea27ae123b",
      "value": 456318
     }
    },
    "7e64eaf1e0524ea8a8a30df06f5ecc16": {
     "model_module": "@jupyter-widgets/controls",
     "model_module_version": "1.5.0",
     "model_name": "DescriptionStyleModel",
     "state": {
      "_model_module": "@jupyter-widgets/controls",
      "_model_module_version": "1.5.0",
      "_model_name": "DescriptionStyleModel",
      "_view_count": null,
      "_view_module": "@jupyter-widgets/base",
      "_view_module_version": "1.2.0",
      "_view_name": "StyleView",
      "description_width": ""
     }
    },
    "7fc975bfb04c4ae6a29bc5d847e4be83": {
     "model_module": "@jupyter-widgets/base",
     "model_module_version": "1.2.0",
     "model_name": "LayoutModel",
     "state": {
      "_model_module": "@jupyter-widgets/base",
      "_model_module_version": "1.2.0",
      "_model_name": "LayoutModel",
      "_view_count": null,
      "_view_module": "@jupyter-widgets/base",
      "_view_module_version": "1.2.0",
      "_view_name": "LayoutView",
      "align_content": null,
      "align_items": null,
      "align_self": null,
      "border": null,
      "bottom": null,
      "display": null,
      "flex": null,
      "flex_flow": null,
      "grid_area": null,
      "grid_auto_columns": null,
      "grid_auto_flow": null,
      "grid_auto_rows": null,
      "grid_column": null,
      "grid_gap": null,
      "grid_row": null,
      "grid_template_areas": null,
      "grid_template_columns": null,
      "grid_template_rows": null,
      "height": null,
      "justify_content": null,
      "justify_items": null,
      "left": null,
      "margin": null,
      "max_height": null,
      "max_width": null,
      "min_height": null,
      "min_width": null,
      "object_fit": null,
      "object_position": null,
      "order": null,
      "overflow": null,
      "overflow_x": null,
      "overflow_y": null,
      "padding": null,
      "right": null,
      "top": null,
      "visibility": null,
      "width": null
     }
    },
    "810958bd19204f0eb695f17fe7751a9b": {
     "model_module": "@jupyter-widgets/controls",
     "model_module_version": "1.5.0",
     "model_name": "HTMLModel",
     "state": {
      "_dom_classes": [],
      "_model_module": "@jupyter-widgets/controls",
      "_model_module_version": "1.5.0",
      "_model_name": "HTMLModel",
      "_view_count": null,
      "_view_module": "@jupyter-widgets/controls",
      "_view_module_version": "1.5.0",
      "_view_name": "HTMLView",
      "description": "",
      "description_tooltip": null,
      "layout": "IPY_MODEL_307fedc2a7294ad2aa7a875c791715d4",
      "placeholder": "​",
      "style": "IPY_MODEL_1efddc8c68294af8881fd1fa51735e42",
      "value": " 1.51G/1.51G [00:41&lt;00:00, 36.2MB/s]"
     }
    },
    "831985196a734ba5aa4d59588c4cd081": {
     "model_module": "@jupyter-widgets/controls",
     "model_module_version": "1.5.0",
     "model_name": "HTMLModel",
     "state": {
      "_dom_classes": [],
      "_model_module": "@jupyter-widgets/controls",
      "_model_module_version": "1.5.0",
      "_model_name": "HTMLModel",
      "_view_count": null,
      "_view_module": "@jupyter-widgets/controls",
      "_view_module_version": "1.5.0",
      "_view_name": "HTMLView",
      "description": "",
      "description_tooltip": null,
      "layout": "IPY_MODEL_8ca8dc6bb20d412c9e8869fb962ffc19",
      "placeholder": "​",
      "style": "IPY_MODEL_87cedef8333741fb9d7870eabeb8fb14",
      "value": "Downloading: 100%"
     }
    },
    "83feed53f81143d9b9e79f57d539b2ea": {
     "model_module": "@jupyter-widgets/base",
     "model_module_version": "1.2.0",
     "model_name": "LayoutModel",
     "state": {
      "_model_module": "@jupyter-widgets/base",
      "_model_module_version": "1.2.0",
      "_model_name": "LayoutModel",
      "_view_count": null,
      "_view_module": "@jupyter-widgets/base",
      "_view_module_version": "1.2.0",
      "_view_name": "LayoutView",
      "align_content": null,
      "align_items": null,
      "align_self": null,
      "border": null,
      "bottom": null,
      "display": null,
      "flex": null,
      "flex_flow": null,
      "grid_area": null,
      "grid_auto_columns": null,
      "grid_auto_flow": null,
      "grid_auto_rows": null,
      "grid_column": null,
      "grid_gap": null,
      "grid_row": null,
      "grid_template_areas": null,
      "grid_template_columns": null,
      "grid_template_rows": null,
      "height": null,
      "justify_content": null,
      "justify_items": null,
      "left": null,
      "margin": null,
      "max_height": null,
      "max_width": null,
      "min_height": null,
      "min_width": null,
      "object_fit": null,
      "object_position": null,
      "order": null,
      "overflow": null,
      "overflow_x": null,
      "overflow_y": null,
      "padding": null,
      "right": null,
      "top": null,
      "visibility": null,
      "width": null
     }
    },
    "87cedef8333741fb9d7870eabeb8fb14": {
     "model_module": "@jupyter-widgets/controls",
     "model_module_version": "1.5.0",
     "model_name": "DescriptionStyleModel",
     "state": {
      "_model_module": "@jupyter-widgets/controls",
      "_model_module_version": "1.5.0",
      "_model_name": "DescriptionStyleModel",
      "_view_count": null,
      "_view_module": "@jupyter-widgets/base",
      "_view_module_version": "1.2.0",
      "_view_name": "StyleView",
      "description_width": ""
     }
    },
    "87d10c4f6df24360b8f3644e445e9b31": {
     "model_module": "@jupyter-widgets/controls",
     "model_module_version": "1.5.0",
     "model_name": "DescriptionStyleModel",
     "state": {
      "_model_module": "@jupyter-widgets/controls",
      "_model_module_version": "1.5.0",
      "_model_name": "DescriptionStyleModel",
      "_view_count": null,
      "_view_module": "@jupyter-widgets/base",
      "_view_module_version": "1.2.0",
      "_view_name": "StyleView",
      "description_width": ""
     }
    },
    "8a60633f0d9343409f6f54b09c4acc55": {
     "model_module": "@jupyter-widgets/controls",
     "model_module_version": "1.5.0",
     "model_name": "HTMLModel",
     "state": {
      "_dom_classes": [],
      "_model_module": "@jupyter-widgets/controls",
      "_model_module_version": "1.5.0",
      "_model_name": "HTMLModel",
      "_view_count": null,
      "_view_module": "@jupyter-widgets/controls",
      "_view_module_version": "1.5.0",
      "_view_name": "HTMLView",
      "description": "",
      "description_tooltip": null,
      "layout": "IPY_MODEL_d0a92f009aa9474c8c1d9e7765e14d1b",
      "placeholder": "​",
      "style": "IPY_MODEL_91c5a4319f09424a9550353735c6f522",
      "value": " 878k/878k [00:00&lt;00:00, 10.8MB/s]"
     }
    },
    "8ca8dc6bb20d412c9e8869fb962ffc19": {
     "model_module": "@jupyter-widgets/base",
     "model_module_version": "1.2.0",
     "model_name": "LayoutModel",
     "state": {
      "_model_module": "@jupyter-widgets/base",
      "_model_module_version": "1.2.0",
      "_model_name": "LayoutModel",
      "_view_count": null,
      "_view_module": "@jupyter-widgets/base",
      "_view_module_version": "1.2.0",
      "_view_name": "LayoutView",
      "align_content": null,
      "align_items": null,
      "align_self": null,
      "border": null,
      "bottom": null,
      "display": null,
      "flex": null,
      "flex_flow": null,
      "grid_area": null,
      "grid_auto_columns": null,
      "grid_auto_flow": null,
      "grid_auto_rows": null,
      "grid_column": null,
      "grid_gap": null,
      "grid_row": null,
      "grid_template_areas": null,
      "grid_template_columns": null,
      "grid_template_rows": null,
      "height": null,
      "justify_content": null,
      "justify_items": null,
      "left": null,
      "margin": null,
      "max_height": null,
      "max_width": null,
      "min_height": null,
      "min_width": null,
      "object_fit": null,
      "object_position": null,
      "order": null,
      "overflow": null,
      "overflow_x": null,
      "overflow_y": null,
      "padding": null,
      "right": null,
      "top": null,
      "visibility": null,
      "width": null
     }
    },
    "8cb3e294958e427cb6e6c702e65d1699": {
     "model_module": "@jupyter-widgets/base",
     "model_module_version": "1.2.0",
     "model_name": "LayoutModel",
     "state": {
      "_model_module": "@jupyter-widgets/base",
      "_model_module_version": "1.2.0",
      "_model_name": "LayoutModel",
      "_view_count": null,
      "_view_module": "@jupyter-widgets/base",
      "_view_module_version": "1.2.0",
      "_view_name": "LayoutView",
      "align_content": null,
      "align_items": null,
      "align_self": null,
      "border": null,
      "bottom": null,
      "display": null,
      "flex": null,
      "flex_flow": null,
      "grid_area": null,
      "grid_auto_columns": null,
      "grid_auto_flow": null,
      "grid_auto_rows": null,
      "grid_column": null,
      "grid_gap": null,
      "grid_row": null,
      "grid_template_areas": null,
      "grid_template_columns": null,
      "grid_template_rows": null,
      "height": null,
      "justify_content": null,
      "justify_items": null,
      "left": null,
      "margin": null,
      "max_height": null,
      "max_width": null,
      "min_height": null,
      "min_width": null,
      "object_fit": null,
      "object_position": null,
      "order": null,
      "overflow": null,
      "overflow_x": null,
      "overflow_y": null,
      "padding": null,
      "right": null,
      "top": null,
      "visibility": null,
      "width": null
     }
    },
    "8e42aa500d004700be5a8ffa361675b8": {
     "model_module": "@jupyter-widgets/base",
     "model_module_version": "1.2.0",
     "model_name": "LayoutModel",
     "state": {
      "_model_module": "@jupyter-widgets/base",
      "_model_module_version": "1.2.0",
      "_model_name": "LayoutModel",
      "_view_count": null,
      "_view_module": "@jupyter-widgets/base",
      "_view_module_version": "1.2.0",
      "_view_name": "LayoutView",
      "align_content": null,
      "align_items": null,
      "align_self": null,
      "border": null,
      "bottom": null,
      "display": null,
      "flex": null,
      "flex_flow": null,
      "grid_area": null,
      "grid_auto_columns": null,
      "grid_auto_flow": null,
      "grid_auto_rows": null,
      "grid_column": null,
      "grid_gap": null,
      "grid_row": null,
      "grid_template_areas": null,
      "grid_template_columns": null,
      "grid_template_rows": null,
      "height": null,
      "justify_content": null,
      "justify_items": null,
      "left": null,
      "margin": null,
      "max_height": null,
      "max_width": null,
      "min_height": null,
      "min_width": null,
      "object_fit": null,
      "object_position": null,
      "order": null,
      "overflow": null,
      "overflow_x": null,
      "overflow_y": null,
      "padding": null,
      "right": null,
      "top": null,
      "visibility": null,
      "width": null
     }
    },
    "9171e164f1db44709fedf1afc9d3a985": {
     "model_module": "@jupyter-widgets/controls",
     "model_module_version": "1.5.0",
     "model_name": "HBoxModel",
     "state": {
      "_dom_classes": [],
      "_model_module": "@jupyter-widgets/controls",
      "_model_module_version": "1.5.0",
      "_model_name": "HBoxModel",
      "_view_count": null,
      "_view_module": "@jupyter-widgets/controls",
      "_view_module_version": "1.5.0",
      "_view_name": "HBoxView",
      "box_style": "",
      "children": [
       "IPY_MODEL_446a386c07e24bc0be13dc96aa587b1a",
       "IPY_MODEL_2d7c792b06ce43daa97f0554faf6b772",
       "IPY_MODEL_424ca194a9a3486688ebcfe3fbb668c0"
      ],
      "layout": "IPY_MODEL_ff587d32298d4423953610e453efd758"
     }
    },
    "91c5a4319f09424a9550353735c6f522": {
     "model_module": "@jupyter-widgets/controls",
     "model_module_version": "1.5.0",
     "model_name": "DescriptionStyleModel",
     "state": {
      "_model_module": "@jupyter-widgets/controls",
      "_model_module_version": "1.5.0",
      "_model_name": "DescriptionStyleModel",
      "_view_count": null,
      "_view_module": "@jupyter-widgets/base",
      "_view_module_version": "1.2.0",
      "_view_name": "StyleView",
      "description_width": ""
     }
    },
    "9d91571a155545b5aa651eadc9d378df": {
     "model_module": "@jupyter-widgets/controls",
     "model_module_version": "1.5.0",
     "model_name": "HTMLModel",
     "state": {
      "_dom_classes": [],
      "_model_module": "@jupyter-widgets/controls",
      "_model_module_version": "1.5.0",
      "_model_name": "HTMLModel",
      "_view_count": null,
      "_view_module": "@jupyter-widgets/controls",
      "_view_module_version": "1.5.0",
      "_view_name": "HTMLView",
      "description": "",
      "description_tooltip": null,
      "layout": "IPY_MODEL_e608181ca12848a7a6b9094c6f12059a",
      "placeholder": "​",
      "style": "IPY_MODEL_f26f9eeffe044bf4a120ae3591ae5304",
      "value": " 1.29M/1.29M [00:00&lt;00:00, 13.8MB/s]"
     }
    },
    "a339696855404a6c8c433b12d1b20d02": {
     "model_module": "@jupyter-widgets/controls",
     "model_module_version": "1.5.0",
     "model_name": "HBoxModel",
     "state": {
      "_dom_classes": [],
      "_model_module": "@jupyter-widgets/controls",
      "_model_module_version": "1.5.0",
      "_model_name": "HBoxModel",
      "_view_count": null,
      "_view_module": "@jupyter-widgets/controls",
      "_view_module_version": "1.5.0",
      "_view_name": "HBoxView",
      "box_style": "",
      "children": [
       "IPY_MODEL_faa0e7f58b444274bad5574011c2a83c",
       "IPY_MODEL_7b7c086662884062924f0d8e93990282",
       "IPY_MODEL_9d91571a155545b5aa651eadc9d378df"
      ],
      "layout": "IPY_MODEL_332e574d7d3b4cd58be30e5499f927e1"
     }
    },
    "ac0cc2b4acc64c8881b9b8c77c5d8d7a": {
     "model_module": "@jupyter-widgets/controls",
     "model_module_version": "1.5.0",
     "model_name": "ProgressStyleModel",
     "state": {
      "_model_module": "@jupyter-widgets/controls",
      "_model_module_version": "1.5.0",
      "_model_name": "ProgressStyleModel",
      "_view_count": null,
      "_view_module": "@jupyter-widgets/base",
      "_view_module_version": "1.2.0",
      "_view_name": "StyleView",
      "bar_color": null,
      "description_width": ""
     }
    },
    "af8999bfc2eb4fe98482e755d4535ad7": {
     "model_module": "@jupyter-widgets/controls",
     "model_module_version": "1.5.0",
     "model_name": "DescriptionStyleModel",
     "state": {
      "_model_module": "@jupyter-widgets/controls",
      "_model_module_version": "1.5.0",
      "_model_name": "DescriptionStyleModel",
      "_view_count": null,
      "_view_module": "@jupyter-widgets/base",
      "_view_module_version": "1.2.0",
      "_view_name": "StyleView",
      "description_width": ""
     }
    },
    "b0493be0d739481fa0eac999fd271379": {
     "model_module": "@jupyter-widgets/controls",
     "model_module_version": "1.5.0",
     "model_name": "ProgressStyleModel",
     "state": {
      "_model_module": "@jupyter-widgets/controls",
      "_model_module_version": "1.5.0",
      "_model_name": "ProgressStyleModel",
      "_view_count": null,
      "_view_module": "@jupyter-widgets/base",
      "_view_module_version": "1.2.0",
      "_view_name": "StyleView",
      "bar_color": null,
      "description_width": ""
     }
    },
    "bcd915f9e4054cb1a105d5ddf750c275": {
     "model_module": "@jupyter-widgets/controls",
     "model_module_version": "1.5.0",
     "model_name": "HTMLModel",
     "state": {
      "_dom_classes": [],
      "_model_module": "@jupyter-widgets/controls",
      "_model_module_version": "1.5.0",
      "_model_name": "HTMLModel",
      "_view_count": null,
      "_view_module": "@jupyter-widgets/controls",
      "_view_module_version": "1.5.0",
      "_view_name": "HTMLView",
      "description": "",
      "description_tooltip": null,
      "layout": "IPY_MODEL_8cb3e294958e427cb6e6c702e65d1699",
      "placeholder": "​",
      "style": "IPY_MODEL_ffa58d9d680d4ece91527383b7998c49",
      "value": " 231M/231M [00:06&lt;00:00, 40.8MB/s]"
     }
    },
    "bec49a4a4d1741d5a575e051aa4cdcfb": {
     "model_module": "@jupyter-widgets/controls",
     "model_module_version": "1.5.0",
     "model_name": "HBoxModel",
     "state": {
      "_dom_classes": [],
      "_model_module": "@jupyter-widgets/controls",
      "_model_module_version": "1.5.0",
      "_model_name": "HBoxModel",
      "_view_count": null,
      "_view_module": "@jupyter-widgets/controls",
      "_view_module_version": "1.5.0",
      "_view_name": "HBoxView",
      "box_style": "",
      "children": [
       "IPY_MODEL_64681403cdcd4a88b96fe5706d439aa2",
       "IPY_MODEL_e029b8eb114143e3b836b2de5bca1ec8",
       "IPY_MODEL_bcd915f9e4054cb1a105d5ddf750c275"
      ],
      "layout": "IPY_MODEL_72dcc96bf7ca494ea923fc62fd0a2c18"
     }
    },
    "bfd6467c18564899952a3c3adb4850ef": {
     "model_module": "@jupyter-widgets/controls",
     "model_module_version": "1.5.0",
     "model_name": "ProgressStyleModel",
     "state": {
      "_model_module": "@jupyter-widgets/controls",
      "_model_module_version": "1.5.0",
      "_model_name": "ProgressStyleModel",
      "_view_count": null,
      "_view_module": "@jupyter-widgets/base",
      "_view_module_version": "1.2.0",
      "_view_name": "StyleView",
      "bar_color": null,
      "description_width": ""
     }
    },
    "c79340ec9a6146609948368689271e47": {
     "model_module": "@jupyter-widgets/controls",
     "model_module_version": "1.5.0",
     "model_name": "HBoxModel",
     "state": {
      "_dom_classes": [],
      "_model_module": "@jupyter-widgets/controls",
      "_model_module_version": "1.5.0",
      "_model_name": "HBoxModel",
      "_view_count": null,
      "_view_module": "@jupyter-widgets/controls",
      "_view_module_version": "1.5.0",
      "_view_name": "HBoxView",
      "box_style": "",
      "children": [
       "IPY_MODEL_22f557460f79431495706dbd2d28ff8e",
       "IPY_MODEL_565baabebfdc42e899a25f6fb2178102",
       "IPY_MODEL_ffb33c25a06a43a489434d7f03e11758"
      ],
      "layout": "IPY_MODEL_431215d7588149ad8ee7a784fbbac923"
     }
    },
    "c888ce032d814c60b0aa32aef29d956c": {
     "model_module": "@jupyter-widgets/controls",
     "model_module_version": "1.5.0",
     "model_name": "HTMLModel",
     "state": {
      "_dom_classes": [],
      "_model_module": "@jupyter-widgets/controls",
      "_model_module_version": "1.5.0",
      "_model_name": "HTMLModel",
      "_view_count": null,
      "_view_module": "@jupyter-widgets/controls",
      "_view_module_version": "1.5.0",
      "_view_name": "HTMLView",
      "description": "",
      "description_tooltip": null,
      "layout": "IPY_MODEL_3504c778164e4ef183c35266e79bd494",
      "placeholder": "​",
      "style": "IPY_MODEL_87d10c4f6df24360b8f3644e445e9b31",
      "value": " 446k/446k [00:00&lt;00:00, 6.61MB/s]"
     }
    },
    "c8fe2f78908c4862a9fa45895f847a7c": {
     "model_module": "@jupyter-widgets/base",
     "model_module_version": "1.2.0",
     "model_name": "LayoutModel",
     "state": {
      "_model_module": "@jupyter-widgets/base",
      "_model_module_version": "1.2.0",
      "_model_name": "LayoutModel",
      "_view_count": null,
      "_view_module": "@jupyter-widgets/base",
      "_view_module_version": "1.2.0",
      "_view_name": "LayoutView",
      "align_content": null,
      "align_items": null,
      "align_self": null,
      "border": null,
      "bottom": null,
      "display": null,
      "flex": null,
      "flex_flow": null,
      "grid_area": null,
      "grid_auto_columns": null,
      "grid_auto_flow": null,
      "grid_auto_rows": null,
      "grid_column": null,
      "grid_gap": null,
      "grid_row": null,
      "grid_template_areas": null,
      "grid_template_columns": null,
      "grid_template_rows": null,
      "height": null,
      "justify_content": null,
      "justify_items": null,
      "left": null,
      "margin": null,
      "max_height": null,
      "max_width": null,
      "min_height": null,
      "min_width": null,
      "object_fit": null,
      "object_position": null,
      "order": null,
      "overflow": null,
      "overflow_x": null,
      "overflow_y": null,
      "padding": null,
      "right": null,
      "top": null,
      "visibility": null,
      "width": null
     }
    },
    "cc938d49a93f4570ac2b781cff3f2119": {
     "model_module": "@jupyter-widgets/base",
     "model_module_version": "1.2.0",
     "model_name": "LayoutModel",
     "state": {
      "_model_module": "@jupyter-widgets/base",
      "_model_module_version": "1.2.0",
      "_model_name": "LayoutModel",
      "_view_count": null,
      "_view_module": "@jupyter-widgets/base",
      "_view_module_version": "1.2.0",
      "_view_name": "LayoutView",
      "align_content": null,
      "align_items": null,
      "align_self": null,
      "border": null,
      "bottom": null,
      "display": null,
      "flex": null,
      "flex_flow": null,
      "grid_area": null,
      "grid_auto_columns": null,
      "grid_auto_flow": null,
      "grid_auto_rows": null,
      "grid_column": null,
      "grid_gap": null,
      "grid_row": null,
      "grid_template_areas": null,
      "grid_template_columns": null,
      "grid_template_rows": null,
      "height": null,
      "justify_content": null,
      "justify_items": null,
      "left": null,
      "margin": null,
      "max_height": null,
      "max_width": null,
      "min_height": null,
      "min_width": null,
      "object_fit": null,
      "object_position": null,
      "order": null,
      "overflow": null,
      "overflow_x": null,
      "overflow_y": null,
      "padding": null,
      "right": null,
      "top": null,
      "visibility": null,
      "width": null
     }
    },
    "d0a92f009aa9474c8c1d9e7765e14d1b": {
     "model_module": "@jupyter-widgets/base",
     "model_module_version": "1.2.0",
     "model_name": "LayoutModel",
     "state": {
      "_model_module": "@jupyter-widgets/base",
      "_model_module_version": "1.2.0",
      "_model_name": "LayoutModel",
      "_view_count": null,
      "_view_module": "@jupyter-widgets/base",
      "_view_module_version": "1.2.0",
      "_view_name": "LayoutView",
      "align_content": null,
      "align_items": null,
      "align_self": null,
      "border": null,
      "bottom": null,
      "display": null,
      "flex": null,
      "flex_flow": null,
      "grid_area": null,
      "grid_auto_columns": null,
      "grid_auto_flow": null,
      "grid_auto_rows": null,
      "grid_column": null,
      "grid_gap": null,
      "grid_row": null,
      "grid_template_areas": null,
      "grid_template_columns": null,
      "grid_template_rows": null,
      "height": null,
      "justify_content": null,
      "justify_items": null,
      "left": null,
      "margin": null,
      "max_height": null,
      "max_width": null,
      "min_height": null,
      "min_width": null,
      "object_fit": null,
      "object_position": null,
      "order": null,
      "overflow": null,
      "overflow_x": null,
      "overflow_y": null,
      "padding": null,
      "right": null,
      "top": null,
      "visibility": null,
      "width": null
     }
    },
    "d18ca3220b714730b1083a9551c54110": {
     "model_module": "@jupyter-widgets/controls",
     "model_module_version": "1.5.0",
     "model_name": "ProgressStyleModel",
     "state": {
      "_model_module": "@jupyter-widgets/controls",
      "_model_module_version": "1.5.0",
      "_model_name": "ProgressStyleModel",
      "_view_count": null,
      "_view_module": "@jupyter-widgets/base",
      "_view_module_version": "1.2.0",
      "_view_name": "StyleView",
      "bar_color": null,
      "description_width": ""
     }
    },
    "d271ab0cbd9a465c98b0b0243de14805": {
     "model_module": "@jupyter-widgets/controls",
     "model_module_version": "1.5.0",
     "model_name": "DescriptionStyleModel",
     "state": {
      "_model_module": "@jupyter-widgets/controls",
      "_model_module_version": "1.5.0",
      "_model_name": "DescriptionStyleModel",
      "_view_count": null,
      "_view_module": "@jupyter-widgets/base",
      "_view_module_version": "1.2.0",
      "_view_name": "StyleView",
      "description_width": ""
     }
    },
    "d43bd1bb47a44d65a266b3efd58ee9a0": {
     "model_module": "@jupyter-widgets/controls",
     "model_module_version": "1.5.0",
     "model_name": "HBoxModel",
     "state": {
      "_dom_classes": [],
      "_model_module": "@jupyter-widgets/controls",
      "_model_module_version": "1.5.0",
      "_model_name": "HBoxModel",
      "_view_count": null,
      "_view_module": "@jupyter-widgets/controls",
      "_view_module_version": "1.5.0",
      "_view_name": "HBoxView",
      "box_style": "",
      "children": [
       "IPY_MODEL_831985196a734ba5aa4d59588c4cd081",
       "IPY_MODEL_7cc9eb2086de464ba7d6d098c69ae1d3",
       "IPY_MODEL_c888ce032d814c60b0aa32aef29d956c"
      ],
      "layout": "IPY_MODEL_cc938d49a93f4570ac2b781cff3f2119"
     }
    },
    "d6c8f150bbf54e0db666d308b03700ba": {
     "model_module": "@jupyter-widgets/controls",
     "model_module_version": "1.5.0",
     "model_name": "FloatProgressModel",
     "state": {
      "_dom_classes": [],
      "_model_module": "@jupyter-widgets/controls",
      "_model_module_version": "1.5.0",
      "_model_name": "FloatProgressModel",
      "_view_count": null,
      "_view_module": "@jupyter-widgets/controls",
      "_view_module_version": "1.5.0",
      "_view_name": "ProgressView",
      "bar_style": "success",
      "description": "",
      "description_tooltip": null,
      "layout": "IPY_MODEL_1c37dbf074ff4870a2a63819ac745d0a",
      "max": 1389353,
      "min": 0,
      "orientation": "horizontal",
      "style": "IPY_MODEL_3efcdb54a07349e6ae1c5c803f52fad1",
      "value": 1389353
     }
    },
    "d7027d8f8ea349b58de8987631e4c5c4": {
     "model_module": "@jupyter-widgets/base",
     "model_module_version": "1.2.0",
     "model_name": "LayoutModel",
     "state": {
      "_model_module": "@jupyter-widgets/base",
      "_model_module_version": "1.2.0",
      "_model_name": "LayoutModel",
      "_view_count": null,
      "_view_module": "@jupyter-widgets/base",
      "_view_module_version": "1.2.0",
      "_view_name": "LayoutView",
      "align_content": null,
      "align_items": null,
      "align_self": null,
      "border": null,
      "bottom": null,
      "display": null,
      "flex": null,
      "flex_flow": null,
      "grid_area": null,
      "grid_auto_columns": null,
      "grid_auto_flow": null,
      "grid_auto_rows": null,
      "grid_column": null,
      "grid_gap": null,
      "grid_row": null,
      "grid_template_areas": null,
      "grid_template_columns": null,
      "grid_template_rows": null,
      "height": null,
      "justify_content": null,
      "justify_items": null,
      "left": null,
      "margin": null,
      "max_height": null,
      "max_width": null,
      "min_height": null,
      "min_width": null,
      "object_fit": null,
      "object_position": null,
      "order": null,
      "overflow": null,
      "overflow_x": null,
      "overflow_y": null,
      "padding": null,
      "right": null,
      "top": null,
      "visibility": null,
      "width": null
     }
    },
    "d796c9100cec495dabf1a4b4ad355e83": {
     "model_module": "@jupyter-widgets/base",
     "model_module_version": "1.2.0",
     "model_name": "LayoutModel",
     "state": {
      "_model_module": "@jupyter-widgets/base",
      "_model_module_version": "1.2.0",
      "_model_name": "LayoutModel",
      "_view_count": null,
      "_view_module": "@jupyter-widgets/base",
      "_view_module_version": "1.2.0",
      "_view_name": "LayoutView",
      "align_content": null,
      "align_items": null,
      "align_self": null,
      "border": null,
      "bottom": null,
      "display": null,
      "flex": null,
      "flex_flow": null,
      "grid_area": null,
      "grid_auto_columns": null,
      "grid_auto_flow": null,
      "grid_auto_rows": null,
      "grid_column": null,
      "grid_gap": null,
      "grid_row": null,
      "grid_template_areas": null,
      "grid_template_columns": null,
      "grid_template_rows": null,
      "height": null,
      "justify_content": null,
      "justify_items": null,
      "left": null,
      "margin": null,
      "max_height": null,
      "max_width": null,
      "min_height": null,
      "min_width": null,
      "object_fit": null,
      "object_position": null,
      "order": null,
      "overflow": null,
      "overflow_x": null,
      "overflow_y": null,
      "padding": null,
      "right": null,
      "top": null,
      "visibility": null,
      "width": null
     }
    },
    "d7adbc69027b4046acbfb73322883345": {
     "model_module": "@jupyter-widgets/controls",
     "model_module_version": "1.5.0",
     "model_name": "DescriptionStyleModel",
     "state": {
      "_model_module": "@jupyter-widgets/controls",
      "_model_module_version": "1.5.0",
      "_model_name": "DescriptionStyleModel",
      "_view_count": null,
      "_view_module": "@jupyter-widgets/base",
      "_view_module_version": "1.2.0",
      "_view_name": "StyleView",
      "description_width": ""
     }
    },
    "dc541fd0d96449949612996f4a352e79": {
     "model_module": "@jupyter-widgets/base",
     "model_module_version": "1.2.0",
     "model_name": "LayoutModel",
     "state": {
      "_model_module": "@jupyter-widgets/base",
      "_model_module_version": "1.2.0",
      "_model_name": "LayoutModel",
      "_view_count": null,
      "_view_module": "@jupyter-widgets/base",
      "_view_module_version": "1.2.0",
      "_view_name": "LayoutView",
      "align_content": null,
      "align_items": null,
      "align_self": null,
      "border": null,
      "bottom": null,
      "display": null,
      "flex": null,
      "flex_flow": null,
      "grid_area": null,
      "grid_auto_columns": null,
      "grid_auto_flow": null,
      "grid_auto_rows": null,
      "grid_column": null,
      "grid_gap": null,
      "grid_row": null,
      "grid_template_areas": null,
      "grid_template_columns": null,
      "grid_template_rows": null,
      "height": null,
      "justify_content": null,
      "justify_items": null,
      "left": null,
      "margin": null,
      "max_height": null,
      "max_width": null,
      "min_height": null,
      "min_width": null,
      "object_fit": null,
      "object_position": null,
      "order": null,
      "overflow": null,
      "overflow_x": null,
      "overflow_y": null,
      "padding": null,
      "right": null,
      "top": null,
      "visibility": null,
      "width": null
     }
    },
    "dd91c9a11a804e6e92934881714bd50c": {
     "model_module": "@jupyter-widgets/base",
     "model_module_version": "1.2.0",
     "model_name": "LayoutModel",
     "state": {
      "_model_module": "@jupyter-widgets/base",
      "_model_module_version": "1.2.0",
      "_model_name": "LayoutModel",
      "_view_count": null,
      "_view_module": "@jupyter-widgets/base",
      "_view_module_version": "1.2.0",
      "_view_name": "LayoutView",
      "align_content": null,
      "align_items": null,
      "align_self": null,
      "border": null,
      "bottom": null,
      "display": null,
      "flex": null,
      "flex_flow": null,
      "grid_area": null,
      "grid_auto_columns": null,
      "grid_auto_flow": null,
      "grid_auto_rows": null,
      "grid_column": null,
      "grid_gap": null,
      "grid_row": null,
      "grid_template_areas": null,
      "grid_template_columns": null,
      "grid_template_rows": null,
      "height": null,
      "justify_content": null,
      "justify_items": null,
      "left": null,
      "margin": null,
      "max_height": null,
      "max_width": null,
      "min_height": null,
      "min_width": null,
      "object_fit": null,
      "object_position": null,
      "order": null,
      "overflow": null,
      "overflow_x": null,
      "overflow_y": null,
      "padding": null,
      "right": null,
      "top": null,
      "visibility": null,
      "width": null
     }
    },
    "dedf43e406fc4aa891c5ba44a51e9a5b": {
     "model_module": "@jupyter-widgets/controls",
     "model_module_version": "1.5.0",
     "model_name": "ProgressStyleModel",
     "state": {
      "_model_module": "@jupyter-widgets/controls",
      "_model_module_version": "1.5.0",
      "_model_name": "ProgressStyleModel",
      "_view_count": null,
      "_view_module": "@jupyter-widgets/base",
      "_view_module_version": "1.2.0",
      "_view_name": "StyleView",
      "bar_color": null,
      "description_width": ""
     }
    },
    "e029b8eb114143e3b836b2de5bca1ec8": {
     "model_module": "@jupyter-widgets/controls",
     "model_module_version": "1.5.0",
     "model_name": "FloatProgressModel",
     "state": {
      "_dom_classes": [],
      "_model_module": "@jupyter-widgets/controls",
      "_model_module_version": "1.5.0",
      "_model_name": "FloatProgressModel",
      "_view_count": null,
      "_view_module": "@jupyter-widgets/controls",
      "_view_module_version": "1.5.0",
      "_view_name": "ProgressView",
      "bar_style": "success",
      "description": "",
      "description_tooltip": null,
      "layout": "IPY_MODEL_5cce08d024804ef9b341f64370cd4b24",
      "max": 242065649,
      "min": 0,
      "orientation": "horizontal",
      "style": "IPY_MODEL_ac0cc2b4acc64c8881b9b8c77c5d8d7a",
      "value": 242065649
     }
    },
    "e399d8fee6f341b9ba21dfd13f6bd54e": {
     "model_module": "@jupyter-widgets/controls",
     "model_module_version": "1.5.0",
     "model_name": "HBoxModel",
     "state": {
      "_dom_classes": [],
      "_model_module": "@jupyter-widgets/controls",
      "_model_module_version": "1.5.0",
      "_model_name": "HBoxModel",
      "_view_count": null,
      "_view_module": "@jupyter-widgets/controls",
      "_view_module_version": "1.5.0",
      "_view_name": "HBoxView",
      "box_style": "",
      "children": [
       "IPY_MODEL_57248c3967b248b98698068b510287f7",
       "IPY_MODEL_0954430893d5479cbdb4d96560019d0a",
       "IPY_MODEL_8a60633f0d9343409f6f54b09c4acc55"
      ],
      "layout": "IPY_MODEL_e847de9e32514718aa49ad6c022bfd6b"
     }
    },
    "e4c37ca4065e45f4a04066d3c790150c": {
     "model_module": "@jupyter-widgets/controls",
     "model_module_version": "1.5.0",
     "model_name": "DescriptionStyleModel",
     "state": {
      "_model_module": "@jupyter-widgets/controls",
      "_model_module_version": "1.5.0",
      "_model_name": "DescriptionStyleModel",
      "_view_count": null,
      "_view_module": "@jupyter-widgets/base",
      "_view_module_version": "1.2.0",
      "_view_name": "StyleView",
      "description_width": ""
     }
    },
    "e608181ca12848a7a6b9094c6f12059a": {
     "model_module": "@jupyter-widgets/base",
     "model_module_version": "1.2.0",
     "model_name": "LayoutModel",
     "state": {
      "_model_module": "@jupyter-widgets/base",
      "_model_module_version": "1.2.0",
      "_model_name": "LayoutModel",
      "_view_count": null,
      "_view_module": "@jupyter-widgets/base",
      "_view_module_version": "1.2.0",
      "_view_name": "LayoutView",
      "align_content": null,
      "align_items": null,
      "align_self": null,
      "border": null,
      "bottom": null,
      "display": null,
      "flex": null,
      "flex_flow": null,
      "grid_area": null,
      "grid_auto_columns": null,
      "grid_auto_flow": null,
      "grid_auto_rows": null,
      "grid_column": null,
      "grid_gap": null,
      "grid_row": null,
      "grid_template_areas": null,
      "grid_template_columns": null,
      "grid_template_rows": null,
      "height": null,
      "justify_content": null,
      "justify_items": null,
      "left": null,
      "margin": null,
      "max_height": null,
      "max_width": null,
      "min_height": null,
      "min_width": null,
      "object_fit": null,
      "object_position": null,
      "order": null,
      "overflow": null,
      "overflow_x": null,
      "overflow_y": null,
      "padding": null,
      "right": null,
      "top": null,
      "visibility": null,
      "width": null
     }
    },
    "e6d4c84bd6d442d99115264835d5e48d": {
     "model_module": "@jupyter-widgets/base",
     "model_module_version": "1.2.0",
     "model_name": "LayoutModel",
     "state": {
      "_model_module": "@jupyter-widgets/base",
      "_model_module_version": "1.2.0",
      "_model_name": "LayoutModel",
      "_view_count": null,
      "_view_module": "@jupyter-widgets/base",
      "_view_module_version": "1.2.0",
      "_view_name": "LayoutView",
      "align_content": null,
      "align_items": null,
      "align_self": null,
      "border": null,
      "bottom": null,
      "display": null,
      "flex": null,
      "flex_flow": null,
      "grid_area": null,
      "grid_auto_columns": null,
      "grid_auto_flow": null,
      "grid_auto_rows": null,
      "grid_column": null,
      "grid_gap": null,
      "grid_row": null,
      "grid_template_areas": null,
      "grid_template_columns": null,
      "grid_template_rows": null,
      "height": null,
      "justify_content": null,
      "justify_items": null,
      "left": null,
      "margin": null,
      "max_height": null,
      "max_width": null,
      "min_height": null,
      "min_width": null,
      "object_fit": null,
      "object_position": null,
      "order": null,
      "overflow": null,
      "overflow_x": null,
      "overflow_y": null,
      "padding": null,
      "right": null,
      "top": null,
      "visibility": null,
      "width": null
     }
    },
    "e7eb08e519354e5bb1fdbda3dad96022": {
     "model_module": "@jupyter-widgets/controls",
     "model_module_version": "1.5.0",
     "model_name": "ProgressStyleModel",
     "state": {
      "_model_module": "@jupyter-widgets/controls",
      "_model_module_version": "1.5.0",
      "_model_name": "ProgressStyleModel",
      "_view_count": null,
      "_view_module": "@jupyter-widgets/base",
      "_view_module_version": "1.2.0",
      "_view_name": "StyleView",
      "bar_color": null,
      "description_width": ""
     }
    },
    "e847de9e32514718aa49ad6c022bfd6b": {
     "model_module": "@jupyter-widgets/base",
     "model_module_version": "1.2.0",
     "model_name": "LayoutModel",
     "state": {
      "_model_module": "@jupyter-widgets/base",
      "_model_module_version": "1.2.0",
      "_model_name": "LayoutModel",
      "_view_count": null,
      "_view_module": "@jupyter-widgets/base",
      "_view_module_version": "1.2.0",
      "_view_name": "LayoutView",
      "align_content": null,
      "align_items": null,
      "align_self": null,
      "border": null,
      "bottom": null,
      "display": null,
      "flex": null,
      "flex_flow": null,
      "grid_area": null,
      "grid_auto_columns": null,
      "grid_auto_flow": null,
      "grid_auto_rows": null,
      "grid_column": null,
      "grid_gap": null,
      "grid_row": null,
      "grid_template_areas": null,
      "grid_template_columns": null,
      "grid_template_rows": null,
      "height": null,
      "justify_content": null,
      "justify_items": null,
      "left": null,
      "margin": null,
      "max_height": null,
      "max_width": null,
      "min_height": null,
      "min_width": null,
      "object_fit": null,
      "object_position": null,
      "order": null,
      "overflow": null,
      "overflow_x": null,
      "overflow_y": null,
      "padding": null,
      "right": null,
      "top": null,
      "visibility": null,
      "width": null
     }
    },
    "e8dcf1e5b59544e2a5a728c4309312a0": {
     "model_module": "@jupyter-widgets/controls",
     "model_module_version": "1.5.0",
     "model_name": "ProgressStyleModel",
     "state": {
      "_model_module": "@jupyter-widgets/controls",
      "_model_module_version": "1.5.0",
      "_model_name": "ProgressStyleModel",
      "_view_count": null,
      "_view_module": "@jupyter-widgets/base",
      "_view_module_version": "1.2.0",
      "_view_name": "StyleView",
      "bar_color": null,
      "description_width": ""
     }
    },
    "ed7fac4e5e0c4b3c88680e0425172177": {
     "model_module": "@jupyter-widgets/controls",
     "model_module_version": "1.5.0",
     "model_name": "HBoxModel",
     "state": {
      "_dom_classes": [],
      "_model_module": "@jupyter-widgets/controls",
      "_model_module_version": "1.5.0",
      "_model_name": "HBoxModel",
      "_view_count": null,
      "_view_module": "@jupyter-widgets/controls",
      "_view_module_version": "1.5.0",
      "_view_name": "HBoxView",
      "box_style": "",
      "children": [
       "IPY_MODEL_2cd8a614bd9f4810ae16ab26bc0fa753",
       "IPY_MODEL_d6c8f150bbf54e0db666d308b03700ba",
       "IPY_MODEL_0798de3fedfb482484f9a6a8f101c832"
      ],
      "layout": "IPY_MODEL_3c9f5309d18c4d64a862f9fc6891b23d"
     }
    },
    "f26f9eeffe044bf4a120ae3591ae5304": {
     "model_module": "@jupyter-widgets/controls",
     "model_module_version": "1.5.0",
     "model_name": "DescriptionStyleModel",
     "state": {
      "_model_module": "@jupyter-widgets/controls",
      "_model_module_version": "1.5.0",
      "_model_name": "DescriptionStyleModel",
      "_view_count": null,
      "_view_module": "@jupyter-widgets/base",
      "_view_module_version": "1.2.0",
      "_view_name": "StyleView",
      "description_width": ""
     }
    },
    "f653bdcb96064a3190b0be423c3c7e34": {
     "model_module": "@jupyter-widgets/base",
     "model_module_version": "1.2.0",
     "model_name": "LayoutModel",
     "state": {
      "_model_module": "@jupyter-widgets/base",
      "_model_module_version": "1.2.0",
      "_model_name": "LayoutModel",
      "_view_count": null,
      "_view_module": "@jupyter-widgets/base",
      "_view_module_version": "1.2.0",
      "_view_name": "LayoutView",
      "align_content": null,
      "align_items": null,
      "align_self": null,
      "border": null,
      "bottom": null,
      "display": null,
      "flex": null,
      "flex_flow": null,
      "grid_area": null,
      "grid_auto_columns": null,
      "grid_auto_flow": null,
      "grid_auto_rows": null,
      "grid_column": null,
      "grid_gap": null,
      "grid_row": null,
      "grid_template_areas": null,
      "grid_template_columns": null,
      "grid_template_rows": null,
      "height": null,
      "justify_content": null,
      "justify_items": null,
      "left": null,
      "margin": null,
      "max_height": null,
      "max_width": null,
      "min_height": null,
      "min_width": null,
      "object_fit": null,
      "object_position": null,
      "order": null,
      "overflow": null,
      "overflow_x": null,
      "overflow_y": null,
      "padding": null,
      "right": null,
      "top": null,
      "visibility": null,
      "width": null
     }
    },
    "faa0e7f58b444274bad5574011c2a83c": {
     "model_module": "@jupyter-widgets/controls",
     "model_module_version": "1.5.0",
     "model_name": "HTMLModel",
     "state": {
      "_dom_classes": [],
      "_model_module": "@jupyter-widgets/controls",
      "_model_module_version": "1.5.0",
      "_model_name": "HTMLModel",
      "_view_count": null,
      "_view_module": "@jupyter-widgets/controls",
      "_view_module_version": "1.5.0",
      "_view_name": "HTMLView",
      "description": "",
      "description_tooltip": null,
      "layout": "IPY_MODEL_e6d4c84bd6d442d99115264835d5e48d",
      "placeholder": "​",
      "style": "IPY_MODEL_44feb0346e08475084091bfb5085c2b4",
      "value": "Downloading: 100%"
     }
    },
    "fcb9ddb351ee498090f2aaea27ae123b": {
     "model_module": "@jupyter-widgets/controls",
     "model_module_version": "1.5.0",
     "model_name": "ProgressStyleModel",
     "state": {
      "_model_module": "@jupyter-widgets/controls",
      "_model_module_version": "1.5.0",
      "_model_name": "ProgressStyleModel",
      "_view_count": null,
      "_view_module": "@jupyter-widgets/base",
      "_view_module_version": "1.2.0",
      "_view_name": "StyleView",
      "bar_color": null,
      "description_width": ""
     }
    },
    "ff587d32298d4423953610e453efd758": {
     "model_module": "@jupyter-widgets/base",
     "model_module_version": "1.2.0",
     "model_name": "LayoutModel",
     "state": {
      "_model_module": "@jupyter-widgets/base",
      "_model_module_version": "1.2.0",
      "_model_name": "LayoutModel",
      "_view_count": null,
      "_view_module": "@jupyter-widgets/base",
      "_view_module_version": "1.2.0",
      "_view_name": "LayoutView",
      "align_content": null,
      "align_items": null,
      "align_self": null,
      "border": null,
      "bottom": null,
      "display": null,
      "flex": null,
      "flex_flow": null,
      "grid_area": null,
      "grid_auto_columns": null,
      "grid_auto_flow": null,
      "grid_auto_rows": null,
      "grid_column": null,
      "grid_gap": null,
      "grid_row": null,
      "grid_template_areas": null,
      "grid_template_columns": null,
      "grid_template_rows": null,
      "height": null,
      "justify_content": null,
      "justify_items": null,
      "left": null,
      "margin": null,
      "max_height": null,
      "max_width": null,
      "min_height": null,
      "min_width": null,
      "object_fit": null,
      "object_position": null,
      "order": null,
      "overflow": null,
      "overflow_x": null,
      "overflow_y": null,
      "padding": null,
      "right": null,
      "top": null,
      "visibility": null,
      "width": null
     }
    },
    "ffa58d9d680d4ece91527383b7998c49": {
     "model_module": "@jupyter-widgets/controls",
     "model_module_version": "1.5.0",
     "model_name": "DescriptionStyleModel",
     "state": {
      "_model_module": "@jupyter-widgets/controls",
      "_model_module_version": "1.5.0",
      "_model_name": "DescriptionStyleModel",
      "_view_count": null,
      "_view_module": "@jupyter-widgets/base",
      "_view_module_version": "1.2.0",
      "_view_name": "StyleView",
      "description_width": ""
     }
    },
    "ffb33c25a06a43a489434d7f03e11758": {
     "model_module": "@jupyter-widgets/controls",
     "model_module_version": "1.5.0",
     "model_name": "HTMLModel",
     "state": {
      "_dom_classes": [],
      "_model_module": "@jupyter-widgets/controls",
      "_model_module_version": "1.5.0",
      "_model_name": "HTMLModel",
      "_view_count": null,
      "_view_module": "@jupyter-widgets/controls",
      "_view_module_version": "1.5.0",
      "_view_name": "HTMLView",
      "description": "",
      "description_tooltip": null,
      "layout": "IPY_MODEL_75990548ceba4457a57b99d5de424293",
      "placeholder": "​",
      "style": "IPY_MODEL_7e64eaf1e0524ea8a8a30df06f5ecc16",
      "value": " 1.55k/1.55k [00:00&lt;00:00, 37.6kB/s]"
     }
    }
   }
  }
 },
 "nbformat": 4,
 "nbformat_minor": 1
}
